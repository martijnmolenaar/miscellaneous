{
 "cells": [
  {
   "cell_type": "code",
   "execution_count": 1,
   "metadata": {},
   "outputs": [],
   "source": [
    "options(stringsAsFactors = FALSE)\n",
    "library(jsonlite)\n",
    "library(plyr)"
   ]
  },
  {
   "cell_type": "code",
   "execution_count": 2,
   "metadata": {},
   "outputs": [
    {
     "data": {
      "text/html": [
       "<table>\n",
       "<caption>A data.frame: 3 × 3</caption>\n",
       "<thead>\n",
       "\t<tr><th scope=col>Name</th><th scope=col>Abbrev</th><th scope=col>Formula</th></tr>\n",
       "\t<tr><th scope=col>&lt;chr&gt;</th><th scope=col>&lt;chr&gt;</th><th scope=col>&lt;chr&gt;</th></tr>\n",
       "</thead>\n",
       "<tbody>\n",
       "\t<tr><td>PC(18:0/18:0) </td><td>PC(36:0)</td><td>C44H88NO8P </td></tr>\n",
       "\t<tr><td>PI(16:0/20:4) </td><td>PI(36:4)</td><td>C45H79O13P </td></tr>\n",
       "\t<tr><td>SM(d18:1/16:0)</td><td>SM(34:1)</td><td>C39H79N2O6P</td></tr>\n",
       "</tbody>\n",
       "</table>\n"
      ],
      "text/latex": [
       "A data.frame: 3 × 3\n",
       "\\begin{tabular}{lll}\n",
       " Name & Abbrev & Formula\\\\\n",
       " <chr> & <chr> & <chr>\\\\\n",
       "\\hline\n",
       "\t PC(18:0/18:0)  & PC(36:0) & C44H88NO8P \\\\\n",
       "\t PI(16:0/20:4)  & PI(36:4) & C45H79O13P \\\\\n",
       "\t SM(d18:1/16:0) & SM(34:1) & C39H79N2O6P\\\\\n",
       "\\end{tabular}\n"
      ],
      "text/markdown": [
       "\n",
       "A data.frame: 3 × 3\n",
       "\n",
       "| Name &lt;chr&gt; | Abbrev &lt;chr&gt; | Formula &lt;chr&gt; |\n",
       "|---|---|---|\n",
       "| PC(18:0/18:0)  | PC(36:0) | C44H88NO8P  |\n",
       "| PI(16:0/20:4)  | PI(36:4) | C45H79O13P  |\n",
       "| SM(d18:1/16:0) | SM(34:1) | C39H79N2O6P |\n",
       "\n"
      ],
      "text/plain": [
       "  Name           Abbrev   Formula    \n",
       "1 PC(18:0/18:0)  PC(36:0) C44H88NO8P \n",
       "2 PI(16:0/20:4)  PI(36:4) C45H79O13P \n",
       "3 SM(d18:1/16:0) SM(34:1) C39H79N2O6P"
      ]
     },
     "metadata": {},
     "output_type": "display_data"
    }
   ],
   "source": [
    "## read in example data\n",
    "\n",
    "example_input <- read.csv(file = \"~/Downloads/LMID/example_input.csv\")\n",
    "\n",
    "example_input"
   ]
  },
  {
   "cell_type": "code",
   "execution_count": 3,
   "metadata": {},
   "outputs": [
    {
     "data": {
      "text/html": [
       "<table>\n",
       "<caption>A data.frame: 6 × 20</caption>\n",
       "<thead>\n",
       "\t<tr><th></th><th scope=col>.id</th><th scope=col>input</th><th scope=col>regno</th><th scope=col>lm_id</th><th scope=col>name</th><th scope=col>sys_name</th><th scope=col>synonyms</th><th scope=col>abbrev</th><th scope=col>abbrev_chains</th><th scope=col>core</th><th scope=col>main_class</th><th scope=col>sub_class</th><th scope=col>exactmass</th><th scope=col>formula</th><th scope=col>inchi</th><th scope=col>inchi_key</th><th scope=col>hmdb_id</th><th scope=col>chebi_id</th><th scope=col>pubchem_cid</th><th scope=col>smiles</th></tr>\n",
       "\t<tr><th></th><th scope=col>&lt;chr&gt;</th><th scope=col>&lt;chr&gt;</th><th scope=col>&lt;chr&gt;</th><th scope=col>&lt;chr&gt;</th><th scope=col>&lt;chr&gt;</th><th scope=col>&lt;chr&gt;</th><th scope=col>&lt;chr&gt;</th><th scope=col>&lt;chr&gt;</th><th scope=col>&lt;chr&gt;</th><th scope=col>&lt;chr&gt;</th><th scope=col>&lt;chr&gt;</th><th scope=col>&lt;chr&gt;</th><th scope=col>&lt;chr&gt;</th><th scope=col>&lt;chr&gt;</th><th scope=col>&lt;chr&gt;</th><th scope=col>&lt;chr&gt;</th><th scope=col>&lt;chr&gt;</th><th scope=col>&lt;chr&gt;</th><th scope=col>&lt;chr&gt;</th><th scope=col>&lt;chr&gt;</th></tr>\n",
       "</thead>\n",
       "<tbody>\n",
       "\t<tr><th scope=row>PC(36:0).1</th><td>Row1</td><td>PC(36:0)</td><td>415 </td><td>LMGP01010006</td><td>PC(18:0/18:0)</td><td>1,2-dioctadecanoyl-sn-glycero-3-phosphocholine             </td><td>Distearoyl phosphatidylcholine; 1,2-distearoyl-sn-glycero-3-phosphocholine; Di-stearoyl-phosphatidylcholine; PC(36:0); PC(18:0/18:0)</td><td>PC 36:0</td><td>PC 18:0/18:0</td><td>Glycerophospholipids [GP]</td><td>Glycerophosphocholines [GP01]</td><td>Diacylglycerophosphocholines [GP0101]</td><td>789.624757</td><td>C44H88NO8P</td><td>InChI=1S/C44H88NO8P/c1-6-8-10-12-14-16-18-20-22-24-26-28-30-32-34-36-43(46)50-40-42(41-52-54(48,49)51-39-38-45(3,4)5)53-44(47)37-35-33-31-29-27-25-23-21-19-17-15-13-11-9-7-2/h42H,6-41H2,1-5H3/t42-/m1/s1</td><td>NRJAVPSFFCBXDT-HUESYALOSA-N</td><td>HMDB0008036</td><td>83718</td><td>94190   </td><td>[C@](COP(=O)([O-])OCC[N+](C)(C)C)([H])(OC(CCCCCCCCCCCCCCCCC)=O)COC(CCCCCCCCCCCCCCCCC)=O</td></tr>\n",
       "\t<tr><th scope=row>PC(36:0).2</th><td>Row2</td><td>PC(36:0)</td><td>2895</td><td>LMGP01010616</td><td>PC(16:0/20:0)</td><td>1-hexadecanoyl-2-eicosanoyl-sn-glycero-3-phosphocholine    </td><td>PC(36:0); PC(16:0_20:0)                                                                                                             </td><td>PC 36:0</td><td>PC 16:0_20:0</td><td>Glycerophospholipids [GP]</td><td>Glycerophosphocholines [GP01]</td><td>Diacylglycerophosphocholines [GP0101]</td><td>789.624757</td><td>C44H88NO8P</td><td>InChI=1S/C44H88NO8P/c1-6-8-10-12-14-16-18-20-21-22-23-25-27-29-31-33-35-37-44(47)53-42(41-52-54(48,49)51-39-38-45(3,4)5)40-50-43(46)36-34-32-30-28-26-24-19-17-15-13-11-9-7-2/h42H,6-41H2,1-5H3/t42-/m1/s1</td><td>HVPURDWMANOTFO-HUESYALOSA-N</td><td>HMDB0007977</td><td>82943</td><td>24778711</td><td>[C@](COP(=O)([O-])OCC[N+](C)(C)C)([H])(OC(CCCCCCCCCCCCCCCCCCC)=O)COC(CCCCCCCCCCCCCCC)=O</td></tr>\n",
       "\t<tr><th scope=row>PC(36:0).3</th><td>Row3</td><td>PC(36:0)</td><td>3327</td><td>LMGP01011002</td><td>PC(20:0/16:0)</td><td>1-eicosanoyl-2-hexadecanoyl-sn-glycero-3-phosphocholine    </td><td>PC(36:0); PC(16:0_20:0)                                                                                                             </td><td>PC 36:0</td><td>PC 16:0_20:0</td><td>Glycerophospholipids [GP]</td><td>Glycerophosphocholines [GP01]</td><td>Diacylglycerophosphocholines [GP0101]</td><td>789.624757</td><td>C44H88NO8P</td><td>InChI=1S/C44H88NO8P/c1-6-8-10-12-14-16-18-20-21-22-23-25-26-28-30-32-34-36-43(46)50-40-42(41-52-54(48,49)51-39-38-45(3,4)5)53-44(47)37-35-33-31-29-27-24-19-17-15-13-11-9-7-2/h42H,6-41H2,1-5H3/t42-/m1/s1</td><td>JJSZXCSTFDBBBZ-HUESYALOSA-N</td><td>HMDB0008265</td><td>75294</td><td>24779030</td><td>[C@](COP(=O)([O-])OCC[N+](C)(C)C)([H])(OC(CCCCCCCCCCCCCCC)=O)COC(CCCCCCCCCCCCCCCCCCC)=O</td></tr>\n",
       "\t<tr><th scope=row>PC(36:0).4</th><td>Row4</td><td>PC(36:0)</td><td>2721</td><td>LMGP01010468</td><td>PC(13:0/23:0)</td><td>1-tridecanoyl-2-tricosanoyl-sn-glycero-3-phosphocholine    </td><td>PC(36:0); PC(13:0_23:0)                                                                                                             </td><td>PC 36:0</td><td>PC 13:0_23:0</td><td>Glycerophospholipids [GP]</td><td>Glycerophosphocholines [GP01]</td><td>Diacylglycerophosphocholines [GP0101]</td><td>789.624757</td><td>C44H88NO8P</td><td>InChI=1S/C44H88NO8P/c1-6-8-10-12-14-16-18-19-20-21-22-23-24-25-26-27-29-31-33-35-37-44(47)53-42(41-52-54(48,49)51-39-38-45(3,4)5)40-50-43(46)36-34-32-30-28-17-15-13-11-9-7-2/h42H,6-41H2,1-5H3/t42-/m1/s1</td><td>KMWAIMBDGYWJJR-HUESYALOSA-N</td><td>NA         </td><td>NA   </td><td>24778602</td><td>[C@](COP(=O)([O-])OCC[N+](C)(C)C)([H])(OC(CCCCCCCCCCCCCCCCCCCCCC)=O)COC(CCCCCCCCCCCC)=O</td></tr>\n",
       "\t<tr><th scope=row>PC(36:0).5</th><td>Row5</td><td>PC(36:0)</td><td>2810</td><td>LMGP01010549</td><td>PC(15:0/21:0)</td><td>1-pentadecanoyl-2-heneicosanoyl-sn-glycero-3-phosphocholine</td><td>PC(36:0); PC(15:0_21:0)                                                                                                             </td><td>PC 36:0</td><td>PC 15:0_21:0</td><td>Glycerophospholipids [GP]</td><td>Glycerophosphocholines [GP01]</td><td>Diacylglycerophosphocholines [GP0101]</td><td>789.624757</td><td>C44H88NO8P</td><td>InChI=1S/C44H88NO8P/c1-6-8-10-12-14-16-18-20-21-22-23-24-25-27-29-31-33-35-37-44(47)53-42(41-52-54(48,49)51-39-38-45(3,4)5)40-50-43(46)36-34-32-30-28-26-19-17-15-13-11-9-7-2/h42H,6-41H2,1-5H3/t42-/m1/s1</td><td>VWLICNQRTMDGNI-HUESYALOSA-N</td><td>NA         </td><td>NA   </td><td>24778670</td><td>[C@](COP(=O)([O-])OCC[N+](C)(C)C)([H])(OC(CCCCCCCCCCCCCCCCCCCC)=O)COC(CCCCCCCCCCCCCC)=O</td></tr>\n",
       "\t<tr><th scope=row>PC(36:0).6</th><td>Row6</td><td>PC(36:0)</td><td>3420</td><td>LMGP01011085</td><td>PC(22:0/14:0)</td><td>1-docosanoyl-2-tetradecanoyl-sn-glycero-3-phosphocholine   </td><td>PC(36:0); PC(14:0_22:0)                                                                                                             </td><td>PC 36:0</td><td>PC 14:0_22:0</td><td>Glycerophospholipids [GP]</td><td>Glycerophosphocholines [GP01]</td><td>Diacylglycerophosphocholines [GP0101]</td><td>789.624757</td><td>C44H88NO8P</td><td>InChI=1S/C44H88NO8P/c1-6-8-10-12-14-16-18-19-20-21-22-23-24-25-27-28-30-32-34-36-43(46)50-40-42(41-52-54(48,49)51-39-38-45(3,4)5)53-44(47)37-35-33-31-29-26-17-15-13-11-9-7-2/h42H,6-41H2,1-5H3/t42-/m1/s1</td><td>JFNNIQMJYCUZKY-HUESYALOSA-N</td><td>HMDB0008525</td><td>86103</td><td>24779104</td><td>[C@](COP(=O)([O-])OCC[N+](C)(C)C)([H])(OC(CCCCCCCCCCCCC)=O)COC(CCCCCCCCCCCCCCCCCCCCC)=O</td></tr>\n",
       "</tbody>\n",
       "</table>\n"
      ],
      "text/latex": [
       "A data.frame: 6 × 20\n",
       "\\begin{tabular}{r|llllllllllllllllllll}\n",
       "  & .id & input & regno & lm\\_id & name & sys\\_name & synonyms & abbrev & abbrev\\_chains & core & main\\_class & sub\\_class & exactmass & formula & inchi & inchi\\_key & hmdb\\_id & chebi\\_id & pubchem\\_cid & smiles\\\\\n",
       "  & <chr> & <chr> & <chr> & <chr> & <chr> & <chr> & <chr> & <chr> & <chr> & <chr> & <chr> & <chr> & <chr> & <chr> & <chr> & <chr> & <chr> & <chr> & <chr> & <chr>\\\\\n",
       "\\hline\n",
       "\tPC(36:0).1 & Row1 & PC(36:0) & 415  & LMGP01010006 & PC(18:0/18:0) & 1,2-dioctadecanoyl-sn-glycero-3-phosphocholine              & Distearoyl phosphatidylcholine; 1,2-distearoyl-sn-glycero-3-phosphocholine; Di-stearoyl-phosphatidylcholine; PC(36:0); PC(18:0/18:0) & PC 36:0 & PC 18:0/18:0 & Glycerophospholipids {[}GP{]} & Glycerophosphocholines {[}GP01{]} & Diacylglycerophosphocholines {[}GP0101{]} & 789.624757 & C44H88NO8P & InChI=1S/C44H88NO8P/c1-6-8-10-12-14-16-18-20-22-24-26-28-30-32-34-36-43(46)50-40-42(41-52-54(48,49)51-39-38-45(3,4)5)53-44(47)37-35-33-31-29-27-25-23-21-19-17-15-13-11-9-7-2/h42H,6-41H2,1-5H3/t42-/m1/s1 & NRJAVPSFFCBXDT-HUESYALOSA-N & HMDB0008036 & 83718 & 94190    & {[}C@{]}(COP(=O)({[}O-{]})OCC{[}N+{]}(C)(C)C)({[}H{]})(OC(CCCCCCCCCCCCCCCCC)=O)COC(CCCCCCCCCCCCCCCCC)=O\\\\\n",
       "\tPC(36:0).2 & Row2 & PC(36:0) & 2895 & LMGP01010616 & PC(16:0/20:0) & 1-hexadecanoyl-2-eicosanoyl-sn-glycero-3-phosphocholine     & PC(36:0); PC(16:0\\_20:0)                                                                                                              & PC 36:0 & PC 16:0\\_20:0 & Glycerophospholipids {[}GP{]} & Glycerophosphocholines {[}GP01{]} & Diacylglycerophosphocholines {[}GP0101{]} & 789.624757 & C44H88NO8P & InChI=1S/C44H88NO8P/c1-6-8-10-12-14-16-18-20-21-22-23-25-27-29-31-33-35-37-44(47)53-42(41-52-54(48,49)51-39-38-45(3,4)5)40-50-43(46)36-34-32-30-28-26-24-19-17-15-13-11-9-7-2/h42H,6-41H2,1-5H3/t42-/m1/s1 & HVPURDWMANOTFO-HUESYALOSA-N & HMDB0007977 & 82943 & 24778711 & {[}C@{]}(COP(=O)({[}O-{]})OCC{[}N+{]}(C)(C)C)({[}H{]})(OC(CCCCCCCCCCCCCCCCCCC)=O)COC(CCCCCCCCCCCCCCC)=O\\\\\n",
       "\tPC(36:0).3 & Row3 & PC(36:0) & 3327 & LMGP01011002 & PC(20:0/16:0) & 1-eicosanoyl-2-hexadecanoyl-sn-glycero-3-phosphocholine     & PC(36:0); PC(16:0\\_20:0)                                                                                                              & PC 36:0 & PC 16:0\\_20:0 & Glycerophospholipids {[}GP{]} & Glycerophosphocholines {[}GP01{]} & Diacylglycerophosphocholines {[}GP0101{]} & 789.624757 & C44H88NO8P & InChI=1S/C44H88NO8P/c1-6-8-10-12-14-16-18-20-21-22-23-25-26-28-30-32-34-36-43(46)50-40-42(41-52-54(48,49)51-39-38-45(3,4)5)53-44(47)37-35-33-31-29-27-24-19-17-15-13-11-9-7-2/h42H,6-41H2,1-5H3/t42-/m1/s1 & JJSZXCSTFDBBBZ-HUESYALOSA-N & HMDB0008265 & 75294 & 24779030 & {[}C@{]}(COP(=O)({[}O-{]})OCC{[}N+{]}(C)(C)C)({[}H{]})(OC(CCCCCCCCCCCCCCC)=O)COC(CCCCCCCCCCCCCCCCCCC)=O\\\\\n",
       "\tPC(36:0).4 & Row4 & PC(36:0) & 2721 & LMGP01010468 & PC(13:0/23:0) & 1-tridecanoyl-2-tricosanoyl-sn-glycero-3-phosphocholine     & PC(36:0); PC(13:0\\_23:0)                                                                                                              & PC 36:0 & PC 13:0\\_23:0 & Glycerophospholipids {[}GP{]} & Glycerophosphocholines {[}GP01{]} & Diacylglycerophosphocholines {[}GP0101{]} & 789.624757 & C44H88NO8P & InChI=1S/C44H88NO8P/c1-6-8-10-12-14-16-18-19-20-21-22-23-24-25-26-27-29-31-33-35-37-44(47)53-42(41-52-54(48,49)51-39-38-45(3,4)5)40-50-43(46)36-34-32-30-28-17-15-13-11-9-7-2/h42H,6-41H2,1-5H3/t42-/m1/s1 & KMWAIMBDGYWJJR-HUESYALOSA-N & NA          & NA    & 24778602 & {[}C@{]}(COP(=O)({[}O-{]})OCC{[}N+{]}(C)(C)C)({[}H{]})(OC(CCCCCCCCCCCCCCCCCCCCCC)=O)COC(CCCCCCCCCCCC)=O\\\\\n",
       "\tPC(36:0).5 & Row5 & PC(36:0) & 2810 & LMGP01010549 & PC(15:0/21:0) & 1-pentadecanoyl-2-heneicosanoyl-sn-glycero-3-phosphocholine & PC(36:0); PC(15:0\\_21:0)                                                                                                              & PC 36:0 & PC 15:0\\_21:0 & Glycerophospholipids {[}GP{]} & Glycerophosphocholines {[}GP01{]} & Diacylglycerophosphocholines {[}GP0101{]} & 789.624757 & C44H88NO8P & InChI=1S/C44H88NO8P/c1-6-8-10-12-14-16-18-20-21-22-23-24-25-27-29-31-33-35-37-44(47)53-42(41-52-54(48,49)51-39-38-45(3,4)5)40-50-43(46)36-34-32-30-28-26-19-17-15-13-11-9-7-2/h42H,6-41H2,1-5H3/t42-/m1/s1 & VWLICNQRTMDGNI-HUESYALOSA-N & NA          & NA    & 24778670 & {[}C@{]}(COP(=O)({[}O-{]})OCC{[}N+{]}(C)(C)C)({[}H{]})(OC(CCCCCCCCCCCCCCCCCCCC)=O)COC(CCCCCCCCCCCCCC)=O\\\\\n",
       "\tPC(36:0).6 & Row6 & PC(36:0) & 3420 & LMGP01011085 & PC(22:0/14:0) & 1-docosanoyl-2-tetradecanoyl-sn-glycero-3-phosphocholine    & PC(36:0); PC(14:0\\_22:0)                                                                                                              & PC 36:0 & PC 14:0\\_22:0 & Glycerophospholipids {[}GP{]} & Glycerophosphocholines {[}GP01{]} & Diacylglycerophosphocholines {[}GP0101{]} & 789.624757 & C44H88NO8P & InChI=1S/C44H88NO8P/c1-6-8-10-12-14-16-18-19-20-21-22-23-24-25-27-28-30-32-34-36-43(46)50-40-42(41-52-54(48,49)51-39-38-45(3,4)5)53-44(47)37-35-33-31-29-26-17-15-13-11-9-7-2/h42H,6-41H2,1-5H3/t42-/m1/s1 & JFNNIQMJYCUZKY-HUESYALOSA-N & HMDB0008525 & 86103 & 24779104 & {[}C@{]}(COP(=O)({[}O-{]})OCC{[}N+{]}(C)(C)C)({[}H{]})(OC(CCCCCCCCCCCCC)=O)COC(CCCCCCCCCCCCCCCCCCCCC)=O\\\\\n",
       "\\end{tabular}\n"
      ],
      "text/markdown": [
       "\n",
       "A data.frame: 6 × 20\n",
       "\n",
       "| <!--/--> | .id &lt;chr&gt; | input &lt;chr&gt; | regno &lt;chr&gt; | lm_id &lt;chr&gt; | name &lt;chr&gt; | sys_name &lt;chr&gt; | synonyms &lt;chr&gt; | abbrev &lt;chr&gt; | abbrev_chains &lt;chr&gt; | core &lt;chr&gt; | main_class &lt;chr&gt; | sub_class &lt;chr&gt; | exactmass &lt;chr&gt; | formula &lt;chr&gt; | inchi &lt;chr&gt; | inchi_key &lt;chr&gt; | hmdb_id &lt;chr&gt; | chebi_id &lt;chr&gt; | pubchem_cid &lt;chr&gt; | smiles &lt;chr&gt; |\n",
       "|---|---|---|---|---|---|---|---|---|---|---|---|---|---|---|---|---|---|---|---|---|\n",
       "| PC(36:0).1 | Row1 | PC(36:0) | 415  | LMGP01010006 | PC(18:0/18:0) | 1,2-dioctadecanoyl-sn-glycero-3-phosphocholine              | Distearoyl phosphatidylcholine; 1,2-distearoyl-sn-glycero-3-phosphocholine; Di-stearoyl-phosphatidylcholine; PC(36:0); PC(18:0/18:0) | PC 36:0 | PC 18:0/18:0 | Glycerophospholipids [GP] | Glycerophosphocholines [GP01] | Diacylglycerophosphocholines [GP0101] | 789.624757 | C44H88NO8P | InChI=1S/C44H88NO8P/c1-6-8-10-12-14-16-18-20-22-24-26-28-30-32-34-36-43(46)50-40-42(41-52-54(48,49)51-39-38-45(3,4)5)53-44(47)37-35-33-31-29-27-25-23-21-19-17-15-13-11-9-7-2/h42H,6-41H2,1-5H3/t42-/m1/s1 | NRJAVPSFFCBXDT-HUESYALOSA-N | HMDB0008036 | 83718 | 94190    | [C@](COP(=O)([O-])OCC[N+](C)(C)C)([H])(OC(CCCCCCCCCCCCCCCCC)=O)COC(CCCCCCCCCCCCCCCCC)=O |\n",
       "| PC(36:0).2 | Row2 | PC(36:0) | 2895 | LMGP01010616 | PC(16:0/20:0) | 1-hexadecanoyl-2-eicosanoyl-sn-glycero-3-phosphocholine     | PC(36:0); PC(16:0_20:0)                                                                                                              | PC 36:0 | PC 16:0_20:0 | Glycerophospholipids [GP] | Glycerophosphocholines [GP01] | Diacylglycerophosphocholines [GP0101] | 789.624757 | C44H88NO8P | InChI=1S/C44H88NO8P/c1-6-8-10-12-14-16-18-20-21-22-23-25-27-29-31-33-35-37-44(47)53-42(41-52-54(48,49)51-39-38-45(3,4)5)40-50-43(46)36-34-32-30-28-26-24-19-17-15-13-11-9-7-2/h42H,6-41H2,1-5H3/t42-/m1/s1 | HVPURDWMANOTFO-HUESYALOSA-N | HMDB0007977 | 82943 | 24778711 | [C@](COP(=O)([O-])OCC[N+](C)(C)C)([H])(OC(CCCCCCCCCCCCCCCCCCC)=O)COC(CCCCCCCCCCCCCCC)=O |\n",
       "| PC(36:0).3 | Row3 | PC(36:0) | 3327 | LMGP01011002 | PC(20:0/16:0) | 1-eicosanoyl-2-hexadecanoyl-sn-glycero-3-phosphocholine     | PC(36:0); PC(16:0_20:0)                                                                                                              | PC 36:0 | PC 16:0_20:0 | Glycerophospholipids [GP] | Glycerophosphocholines [GP01] | Diacylglycerophosphocholines [GP0101] | 789.624757 | C44H88NO8P | InChI=1S/C44H88NO8P/c1-6-8-10-12-14-16-18-20-21-22-23-25-26-28-30-32-34-36-43(46)50-40-42(41-52-54(48,49)51-39-38-45(3,4)5)53-44(47)37-35-33-31-29-27-24-19-17-15-13-11-9-7-2/h42H,6-41H2,1-5H3/t42-/m1/s1 | JJSZXCSTFDBBBZ-HUESYALOSA-N | HMDB0008265 | 75294 | 24779030 | [C@](COP(=O)([O-])OCC[N+](C)(C)C)([H])(OC(CCCCCCCCCCCCCCC)=O)COC(CCCCCCCCCCCCCCCCCCC)=O |\n",
       "| PC(36:0).4 | Row4 | PC(36:0) | 2721 | LMGP01010468 | PC(13:0/23:0) | 1-tridecanoyl-2-tricosanoyl-sn-glycero-3-phosphocholine     | PC(36:0); PC(13:0_23:0)                                                                                                              | PC 36:0 | PC 13:0_23:0 | Glycerophospholipids [GP] | Glycerophosphocholines [GP01] | Diacylglycerophosphocholines [GP0101] | 789.624757 | C44H88NO8P | InChI=1S/C44H88NO8P/c1-6-8-10-12-14-16-18-19-20-21-22-23-24-25-26-27-29-31-33-35-37-44(47)53-42(41-52-54(48,49)51-39-38-45(3,4)5)40-50-43(46)36-34-32-30-28-17-15-13-11-9-7-2/h42H,6-41H2,1-5H3/t42-/m1/s1 | KMWAIMBDGYWJJR-HUESYALOSA-N | NA          | NA    | 24778602 | [C@](COP(=O)([O-])OCC[N+](C)(C)C)([H])(OC(CCCCCCCCCCCCCCCCCCCCCC)=O)COC(CCCCCCCCCCCC)=O |\n",
       "| PC(36:0).5 | Row5 | PC(36:0) | 2810 | LMGP01010549 | PC(15:0/21:0) | 1-pentadecanoyl-2-heneicosanoyl-sn-glycero-3-phosphocholine | PC(36:0); PC(15:0_21:0)                                                                                                              | PC 36:0 | PC 15:0_21:0 | Glycerophospholipids [GP] | Glycerophosphocholines [GP01] | Diacylglycerophosphocholines [GP0101] | 789.624757 | C44H88NO8P | InChI=1S/C44H88NO8P/c1-6-8-10-12-14-16-18-20-21-22-23-24-25-27-29-31-33-35-37-44(47)53-42(41-52-54(48,49)51-39-38-45(3,4)5)40-50-43(46)36-34-32-30-28-26-19-17-15-13-11-9-7-2/h42H,6-41H2,1-5H3/t42-/m1/s1 | VWLICNQRTMDGNI-HUESYALOSA-N | NA          | NA    | 24778670 | [C@](COP(=O)([O-])OCC[N+](C)(C)C)([H])(OC(CCCCCCCCCCCCCCCCCCCC)=O)COC(CCCCCCCCCCCCCC)=O |\n",
       "| PC(36:0).6 | Row6 | PC(36:0) | 3420 | LMGP01011085 | PC(22:0/14:0) | 1-docosanoyl-2-tetradecanoyl-sn-glycero-3-phosphocholine    | PC(36:0); PC(14:0_22:0)                                                                                                              | PC 36:0 | PC 14:0_22:0 | Glycerophospholipids [GP] | Glycerophosphocholines [GP01] | Diacylglycerophosphocholines [GP0101] | 789.624757 | C44H88NO8P | InChI=1S/C44H88NO8P/c1-6-8-10-12-14-16-18-19-20-21-22-23-24-25-27-28-30-32-34-36-43(46)50-40-42(41-52-54(48,49)51-39-38-45(3,4)5)53-44(47)37-35-33-31-29-26-17-15-13-11-9-7-2/h42H,6-41H2,1-5H3/t42-/m1/s1 | JFNNIQMJYCUZKY-HUESYALOSA-N | HMDB0008525 | 86103 | 24779104 | [C@](COP(=O)([O-])OCC[N+](C)(C)C)([H])(OC(CCCCCCCCCCCCC)=O)COC(CCCCCCCCCCCCCCCCCCCCC)=O |\n",
       "\n"
      ],
      "text/plain": [
       "           .id  input    regno lm_id        name         \n",
       "PC(36:0).1 Row1 PC(36:0) 415   LMGP01010006 PC(18:0/18:0)\n",
       "PC(36:0).2 Row2 PC(36:0) 2895  LMGP01010616 PC(16:0/20:0)\n",
       "PC(36:0).3 Row3 PC(36:0) 3327  LMGP01011002 PC(20:0/16:0)\n",
       "PC(36:0).4 Row4 PC(36:0) 2721  LMGP01010468 PC(13:0/23:0)\n",
       "PC(36:0).5 Row5 PC(36:0) 2810  LMGP01010549 PC(15:0/21:0)\n",
       "PC(36:0).6 Row6 PC(36:0) 3420  LMGP01011085 PC(22:0/14:0)\n",
       "           sys_name                                                   \n",
       "PC(36:0).1 1,2-dioctadecanoyl-sn-glycero-3-phosphocholine             \n",
       "PC(36:0).2 1-hexadecanoyl-2-eicosanoyl-sn-glycero-3-phosphocholine    \n",
       "PC(36:0).3 1-eicosanoyl-2-hexadecanoyl-sn-glycero-3-phosphocholine    \n",
       "PC(36:0).4 1-tridecanoyl-2-tricosanoyl-sn-glycero-3-phosphocholine    \n",
       "PC(36:0).5 1-pentadecanoyl-2-heneicosanoyl-sn-glycero-3-phosphocholine\n",
       "PC(36:0).6 1-docosanoyl-2-tetradecanoyl-sn-glycero-3-phosphocholine   \n",
       "           synonyms                                                                                                                            \n",
       "PC(36:0).1 Distearoyl phosphatidylcholine; 1,2-distearoyl-sn-glycero-3-phosphocholine; Di-stearoyl-phosphatidylcholine; PC(36:0); PC(18:0/18:0)\n",
       "PC(36:0).2 PC(36:0); PC(16:0_20:0)                                                                                                             \n",
       "PC(36:0).3 PC(36:0); PC(16:0_20:0)                                                                                                             \n",
       "PC(36:0).4 PC(36:0); PC(13:0_23:0)                                                                                                             \n",
       "PC(36:0).5 PC(36:0); PC(15:0_21:0)                                                                                                             \n",
       "PC(36:0).6 PC(36:0); PC(14:0_22:0)                                                                                                             \n",
       "           abbrev  abbrev_chains core                     \n",
       "PC(36:0).1 PC 36:0 PC 18:0/18:0  Glycerophospholipids [GP]\n",
       "PC(36:0).2 PC 36:0 PC 16:0_20:0  Glycerophospholipids [GP]\n",
       "PC(36:0).3 PC 36:0 PC 16:0_20:0  Glycerophospholipids [GP]\n",
       "PC(36:0).4 PC 36:0 PC 13:0_23:0  Glycerophospholipids [GP]\n",
       "PC(36:0).5 PC 36:0 PC 15:0_21:0  Glycerophospholipids [GP]\n",
       "PC(36:0).6 PC 36:0 PC 14:0_22:0  Glycerophospholipids [GP]\n",
       "           main_class                    sub_class                            \n",
       "PC(36:0).1 Glycerophosphocholines [GP01] Diacylglycerophosphocholines [GP0101]\n",
       "PC(36:0).2 Glycerophosphocholines [GP01] Diacylglycerophosphocholines [GP0101]\n",
       "PC(36:0).3 Glycerophosphocholines [GP01] Diacylglycerophosphocholines [GP0101]\n",
       "PC(36:0).4 Glycerophosphocholines [GP01] Diacylglycerophosphocholines [GP0101]\n",
       "PC(36:0).5 Glycerophosphocholines [GP01] Diacylglycerophosphocholines [GP0101]\n",
       "PC(36:0).6 Glycerophosphocholines [GP01] Diacylglycerophosphocholines [GP0101]\n",
       "           exactmass  formula   \n",
       "PC(36:0).1 789.624757 C44H88NO8P\n",
       "PC(36:0).2 789.624757 C44H88NO8P\n",
       "PC(36:0).3 789.624757 C44H88NO8P\n",
       "PC(36:0).4 789.624757 C44H88NO8P\n",
       "PC(36:0).5 789.624757 C44H88NO8P\n",
       "PC(36:0).6 789.624757 C44H88NO8P\n",
       "           inchi                                                                                                                                                                                                     \n",
       "PC(36:0).1 InChI=1S/C44H88NO8P/c1-6-8-10-12-14-16-18-20-22-24-26-28-30-32-34-36-43(46)50-40-42(41-52-54(48,49)51-39-38-45(3,4)5)53-44(47)37-35-33-31-29-27-25-23-21-19-17-15-13-11-9-7-2/h42H,6-41H2,1-5H3/t42-/m1/s1\n",
       "PC(36:0).2 InChI=1S/C44H88NO8P/c1-6-8-10-12-14-16-18-20-21-22-23-25-27-29-31-33-35-37-44(47)53-42(41-52-54(48,49)51-39-38-45(3,4)5)40-50-43(46)36-34-32-30-28-26-24-19-17-15-13-11-9-7-2/h42H,6-41H2,1-5H3/t42-/m1/s1\n",
       "PC(36:0).3 InChI=1S/C44H88NO8P/c1-6-8-10-12-14-16-18-20-21-22-23-25-26-28-30-32-34-36-43(46)50-40-42(41-52-54(48,49)51-39-38-45(3,4)5)53-44(47)37-35-33-31-29-27-24-19-17-15-13-11-9-7-2/h42H,6-41H2,1-5H3/t42-/m1/s1\n",
       "PC(36:0).4 InChI=1S/C44H88NO8P/c1-6-8-10-12-14-16-18-19-20-21-22-23-24-25-26-27-29-31-33-35-37-44(47)53-42(41-52-54(48,49)51-39-38-45(3,4)5)40-50-43(46)36-34-32-30-28-17-15-13-11-9-7-2/h42H,6-41H2,1-5H3/t42-/m1/s1\n",
       "PC(36:0).5 InChI=1S/C44H88NO8P/c1-6-8-10-12-14-16-18-20-21-22-23-24-25-27-29-31-33-35-37-44(47)53-42(41-52-54(48,49)51-39-38-45(3,4)5)40-50-43(46)36-34-32-30-28-26-19-17-15-13-11-9-7-2/h42H,6-41H2,1-5H3/t42-/m1/s1\n",
       "PC(36:0).6 InChI=1S/C44H88NO8P/c1-6-8-10-12-14-16-18-19-20-21-22-23-24-25-27-28-30-32-34-36-43(46)50-40-42(41-52-54(48,49)51-39-38-45(3,4)5)53-44(47)37-35-33-31-29-26-17-15-13-11-9-7-2/h42H,6-41H2,1-5H3/t42-/m1/s1\n",
       "           inchi_key                   hmdb_id     chebi_id pubchem_cid\n",
       "PC(36:0).1 NRJAVPSFFCBXDT-HUESYALOSA-N HMDB0008036 83718    94190      \n",
       "PC(36:0).2 HVPURDWMANOTFO-HUESYALOSA-N HMDB0007977 82943    24778711   \n",
       "PC(36:0).3 JJSZXCSTFDBBBZ-HUESYALOSA-N HMDB0008265 75294    24779030   \n",
       "PC(36:0).4 KMWAIMBDGYWJJR-HUESYALOSA-N NA          NA       24778602   \n",
       "PC(36:0).5 VWLICNQRTMDGNI-HUESYALOSA-N NA          NA       24778670   \n",
       "PC(36:0).6 JFNNIQMJYCUZKY-HUESYALOSA-N HMDB0008525 86103    24779104   \n",
       "           smiles                                                                                 \n",
       "PC(36:0).1 [C@](COP(=O)([O-])OCC[N+](C)(C)C)([H])(OC(CCCCCCCCCCCCCCCCC)=O)COC(CCCCCCCCCCCCCCCCC)=O\n",
       "PC(36:0).2 [C@](COP(=O)([O-])OCC[N+](C)(C)C)([H])(OC(CCCCCCCCCCCCCCCCCCC)=O)COC(CCCCCCCCCCCCCCC)=O\n",
       "PC(36:0).3 [C@](COP(=O)([O-])OCC[N+](C)(C)C)([H])(OC(CCCCCCCCCCCCCCC)=O)COC(CCCCCCCCCCCCCCCCCCC)=O\n",
       "PC(36:0).4 [C@](COP(=O)([O-])OCC[N+](C)(C)C)([H])(OC(CCCCCCCCCCCCCCCCCCCCCC)=O)COC(CCCCCCCCCCCC)=O\n",
       "PC(36:0).5 [C@](COP(=O)([O-])OCC[N+](C)(C)C)([H])(OC(CCCCCCCCCCCCCCCCCCCC)=O)COC(CCCCCCCCCCCCCC)=O\n",
       "PC(36:0).6 [C@](COP(=O)([O-])OCC[N+](C)(C)C)([H])(OC(CCCCCCCCCCCCC)=O)COC(CCCCCCCCCCCCCCCCCCCCC)=O"
      ]
     },
     "metadata": {},
     "output_type": "display_data"
    }
   ],
   "source": [
    "## by LIPIDMAPSS abbreviation\n",
    "\n",
    "REST_list_all <-\n",
    "sapply(example_input$Abbrev, function(Abbrev_i){\n",
    "  REST <- jsonlite::fromJSON(txt = paste0('https://www.lipidmaps.org/rest/compound/abbrev/', Abbrev_i,'/all/json'))\n",
    "  REST_df <- ldply (REST, data.frame)\n",
    "}, simplify = FALSE)\n",
    "\n",
    "REST_df_all <- do.call(\"rbind\",REST_list_all)\n",
    "\n",
    "head(REST_df_all)\n",
    "\n"
   ]
  },
  {
   "cell_type": "code",
   "execution_count": 4,
   "metadata": {},
   "outputs": [],
   "source": [
    "## write into csv\n",
    "write.csv(REST_df_all, file = '~/Downloads/LMID/example_output_abbr.csv', row.names = F)"
   ]
  },
  {
   "cell_type": "code",
   "execution_count": 5,
   "metadata": {},
   "outputs": [
    {
     "data": {
      "text/html": [
       "<table>\n",
       "<caption>A data.frame: 3 × 20</caption>\n",
       "<thead>\n",
       "\t<tr><th></th><th scope=col>.id</th><th scope=col>input</th><th scope=col>regno</th><th scope=col>lm_id</th><th scope=col>name</th><th scope=col>sys_name</th><th scope=col>synonyms</th><th scope=col>abbrev</th><th scope=col>abbrev_chains</th><th scope=col>core</th><th scope=col>main_class</th><th scope=col>sub_class</th><th scope=col>exactmass</th><th scope=col>formula</th><th scope=col>inchi</th><th scope=col>inchi_key</th><th scope=col>hmdb_id</th><th scope=col>chebi_id</th><th scope=col>pubchem_cid</th><th scope=col>smiles</th></tr>\n",
       "\t<tr><th></th><th scope=col>&lt;chr&gt;</th><th scope=col>&lt;chr&gt;</th><th scope=col>&lt;chr&gt;</th><th scope=col>&lt;chr&gt;</th><th scope=col>&lt;chr&gt;</th><th scope=col>&lt;chr&gt;</th><th scope=col>&lt;chr&gt;</th><th scope=col>&lt;chr&gt;</th><th scope=col>&lt;chr&gt;</th><th scope=col>&lt;chr&gt;</th><th scope=col>&lt;chr&gt;</th><th scope=col>&lt;chr&gt;</th><th scope=col>&lt;chr&gt;</th><th scope=col>&lt;chr&gt;</th><th scope=col>&lt;chr&gt;</th><th scope=col>&lt;chr&gt;</th><th scope=col>&lt;chr&gt;</th><th scope=col>&lt;chr&gt;</th><th scope=col>&lt;chr&gt;</th><th scope=col>&lt;chr&gt;</th></tr>\n",
       "</thead>\n",
       "<tbody>\n",
       "\t<tr><th scope=row>1</th><td>PC(18:0/18:0) </td><td>PC(18:0/18:0) </td><td>415  </td><td>LMGP01010006</td><td>PC(18:0/18:0)               </td><td>1,2-dioctadecanoyl-sn-glycero-3-phosphocholine                                       </td><td>Distearoyl phosphatidylcholine; 1,2-distearoyl-sn-glycero-3-phosphocholine; Di-stearoyl-phosphatidylcholine; PC(36:0); PC(18:0/18:0)</td><td>PC 36:0   </td><td>PC 18:0/18:0   </td><td>Glycerophospholipids [GP]</td><td>Glycerophosphocholines [GP01] </td><td>Diacylglycerophosphocholines [GP0101]             </td><td>789.624757</td><td>C44H88NO8P </td><td>InChI=1S/C44H88NO8P/c1-6-8-10-12-14-16-18-20-22-24-26-28-30-32-34-36-43(46)50-40-42(41-52-54(48,49)51-39-38-45(3,4)5)53-44(47)37-35-33-31-29-27-25-23-21-19-17-15-13-11-9-7-2/h42H,6-41H2,1-5H3/t42-/m1/s1                                                                                                                                                   </td><td>NRJAVPSFFCBXDT-HUESYALOSA-N</td><td>HMDB0008036</td><td>83718</td><td>94190   </td><td>[C@](COP(=O)([O-])OCC[N+](C)(C)C)([H])(OC(CCCCCCCCCCCCCCCCC)=O)COC(CCCCCCCCCCCCCCCCC)=O                              </td></tr>\n",
       "\t<tr><th scope=row>2</th><td>PI(16:0/20:4) </td><td>PI(16:0/20:4) </td><td>32078</td><td>LMGP06010958</td><td>PI(16:0/20:4(5Z,8Z,11Z,14Z))</td><td>1-hexadecanoyl-2-(5Z,8Z,11Z,14Z-eicosatetraenoyl)-glycero-3-phospho-(1'-myo-inositol)</td><td>PI(36:4); PI(16:0_20:4)                                                                                                             </td><td>PI 36:4   </td><td>PI 16:0_20:4   </td><td>Glycerophospholipids [GP]</td><td>Glycerophosphoinositols [GP06]</td><td>Diacylglycerophosphoinositols [GP0601]            </td><td>858.525833</td><td>C45H79O13P </td><td>InChI=1S/C45H79O13P/c1-3-5-7-9-11-13-15-17-18-19-20-22-24-26-28-30-32-34-39(47)57-37(36-56-59(53,54)58-45-43(51)41(49)40(48)42(50)44(45)52)35-55-38(46)33-31-29-27-25-23-21-16-14-12-10-8-6-4-2/h11,13,17-18,20,22,26,28,37,40-45,48-52H,3-10,12,14-16,19,21,23-25,27,29-36H2,1-2H3,(H,53,54)/b13-11-,18-17-,22-20-,28-26-/t37-,40?,41-,42?,43?,44?,45-/m1/s1</td><td>KIQYUSYSJTUGFZ-GWAZTMTOSA-N</td><td>HMDB0009789</td><td>NA   </td><td>52928411</td><td>[C@]([H])(OC(CCC/C=C\\C/C=C\\C/C=C\\C/C=C\\CCCCC)=O)(COP(=O)(O)O[C@@H]1C(O)[C@H](O)C(O)C(O)C1O)COC(CCCCCCCCCCCCCCC)=O</td></tr>\n",
       "\t<tr><th scope=row>3</th><td>SM(d18:1/16:0)</td><td>SM(d18:1/16:0)</td><td>739  </td><td>LMSP03010003</td><td>SM(d18:1/16:0)              </td><td>N-(hexadecanoyl)-sphing-4-enine-1-phosphocholine                                     </td><td>C16 Sphingomyelin                                                                                                                   </td><td>SM 34:1;O2</td><td>SM 18:1;O2/16:0</td><td>Sphingolipids [SP]       </td><td>Phosphosphingolipids [SP03]   </td><td>Ceramide phosphocholines (sphingomyelins) [SP0301]</td><td>702.567576</td><td>C39H79N2O6P</td><td>InChI=1S/C39H79N2O6P/c1-6-8-10-12-14-16-18-20-22-24-26-28-30-32-38(42)37(36-47-48(44,45)46-35-34-41(3,4)5)40-39(43)33-31-29-27-25-23-21-19-17-15-13-11-9-7-2/h30,32,37-38,42H,6-29,31,33-36H2,1-5H3,(H-,40,43,44,45)/b32-30+/t37-,38+/m0/s1                                                                                                                  </td><td>RWKUXQNLWDTSLO-GWQJGLRPSA-N</td><td>HMDB0061712</td><td>78646</td><td>9939941 </td><td>[C@](COP(=O)([O-])OCC[N+](C)(C)C)([H])(NC(CCCCCCCCCCCCCCC)=O)[C@]([H])(O)/C=C/CCCCCCCCCCCCC                          </td></tr>\n",
       "</tbody>\n",
       "</table>\n"
      ],
      "text/latex": [
       "A data.frame: 3 × 20\n",
       "\\begin{tabular}{r|llllllllllllllllllll}\n",
       "  & .id & input & regno & lm\\_id & name & sys\\_name & synonyms & abbrev & abbrev\\_chains & core & main\\_class & sub\\_class & exactmass & formula & inchi & inchi\\_key & hmdb\\_id & chebi\\_id & pubchem\\_cid & smiles\\\\\n",
       "  & <chr> & <chr> & <chr> & <chr> & <chr> & <chr> & <chr> & <chr> & <chr> & <chr> & <chr> & <chr> & <chr> & <chr> & <chr> & <chr> & <chr> & <chr> & <chr> & <chr>\\\\\n",
       "\\hline\n",
       "\t1 & PC(18:0/18:0)  & PC(18:0/18:0)  & 415   & LMGP01010006 & PC(18:0/18:0)                & 1,2-dioctadecanoyl-sn-glycero-3-phosphocholine                                        & Distearoyl phosphatidylcholine; 1,2-distearoyl-sn-glycero-3-phosphocholine; Di-stearoyl-phosphatidylcholine; PC(36:0); PC(18:0/18:0) & PC 36:0    & PC 18:0/18:0    & Glycerophospholipids {[}GP{]} & Glycerophosphocholines {[}GP01{]}  & Diacylglycerophosphocholines {[}GP0101{]}              & 789.624757 & C44H88NO8P  & InChI=1S/C44H88NO8P/c1-6-8-10-12-14-16-18-20-22-24-26-28-30-32-34-36-43(46)50-40-42(41-52-54(48,49)51-39-38-45(3,4)5)53-44(47)37-35-33-31-29-27-25-23-21-19-17-15-13-11-9-7-2/h42H,6-41H2,1-5H3/t42-/m1/s1                                                                                                                                                    & NRJAVPSFFCBXDT-HUESYALOSA-N & HMDB0008036 & 83718 & 94190    & {[}C@{]}(COP(=O)({[}O-{]})OCC{[}N+{]}(C)(C)C)({[}H{]})(OC(CCCCCCCCCCCCCCCCC)=O)COC(CCCCCCCCCCCCCCCCC)=O                              \\\\\n",
       "\t2 & PI(16:0/20:4)  & PI(16:0/20:4)  & 32078 & LMGP06010958 & PI(16:0/20:4(5Z,8Z,11Z,14Z)) & 1-hexadecanoyl-2-(5Z,8Z,11Z,14Z-eicosatetraenoyl)-glycero-3-phospho-(1'-myo-inositol) & PI(36:4); PI(16:0\\_20:4)                                                                                                              & PI 36:4    & PI 16:0\\_20:4    & Glycerophospholipids {[}GP{]} & Glycerophosphoinositols {[}GP06{]} & Diacylglycerophosphoinositols {[}GP0601{]}             & 858.525833 & C45H79O13P  & InChI=1S/C45H79O13P/c1-3-5-7-9-11-13-15-17-18-19-20-22-24-26-28-30-32-34-39(47)57-37(36-56-59(53,54)58-45-43(51)41(49)40(48)42(50)44(45)52)35-55-38(46)33-31-29-27-25-23-21-16-14-12-10-8-6-4-2/h11,13,17-18,20,22,26,28,37,40-45,48-52H,3-10,12,14-16,19,21,23-25,27,29-36H2,1-2H3,(H,53,54)/b13-11-,18-17-,22-20-,28-26-/t37-,40?,41-,42?,43?,44?,45-/m1/s1 & KIQYUSYSJTUGFZ-GWAZTMTOSA-N & HMDB0009789 & NA    & 52928411 & {[}C@{]}({[}H{]})(OC(CCC/C=C\\textbackslash{}C/C=C\\textbackslash{}C/C=C\\textbackslash{}C/C=C\\textbackslash{}CCCCC)=O)(COP(=O)(O)O{[}C@@H{]}1C(O){[}C@H{]}(O)C(O)C(O)C1O)COC(CCCCCCCCCCCCCCC)=O\\\\\n",
       "\t3 & SM(d18:1/16:0) & SM(d18:1/16:0) & 739   & LMSP03010003 & SM(d18:1/16:0)               & N-(hexadecanoyl)-sphing-4-enine-1-phosphocholine                                      & C16 Sphingomyelin                                                                                                                    & SM 34:1;O2 & SM 18:1;O2/16:0 & Sphingolipids {[}SP{]}        & Phosphosphingolipids {[}SP03{]}    & Ceramide phosphocholines (sphingomyelins) {[}SP0301{]} & 702.567576 & C39H79N2O6P & InChI=1S/C39H79N2O6P/c1-6-8-10-12-14-16-18-20-22-24-26-28-30-32-38(42)37(36-47-48(44,45)46-35-34-41(3,4)5)40-39(43)33-31-29-27-25-23-21-19-17-15-13-11-9-7-2/h30,32,37-38,42H,6-29,31,33-36H2,1-5H3,(H-,40,43,44,45)/b32-30+/t37-,38+/m0/s1                                                                                                                   & RWKUXQNLWDTSLO-GWQJGLRPSA-N & HMDB0061712 & 78646 & 9939941  & {[}C@{]}(COP(=O)({[}O-{]})OCC{[}N+{]}(C)(C)C)({[}H{]})(NC(CCCCCCCCCCCCCCC)=O){[}C@{]}({[}H{]})(O)/C=C/CCCCCCCCCCCCC                          \\\\\n",
       "\\end{tabular}\n"
      ],
      "text/markdown": [
       "\n",
       "A data.frame: 3 × 20\n",
       "\n",
       "| <!--/--> | .id &lt;chr&gt; | input &lt;chr&gt; | regno &lt;chr&gt; | lm_id &lt;chr&gt; | name &lt;chr&gt; | sys_name &lt;chr&gt; | synonyms &lt;chr&gt; | abbrev &lt;chr&gt; | abbrev_chains &lt;chr&gt; | core &lt;chr&gt; | main_class &lt;chr&gt; | sub_class &lt;chr&gt; | exactmass &lt;chr&gt; | formula &lt;chr&gt; | inchi &lt;chr&gt; | inchi_key &lt;chr&gt; | hmdb_id &lt;chr&gt; | chebi_id &lt;chr&gt; | pubchem_cid &lt;chr&gt; | smiles &lt;chr&gt; |\n",
       "|---|---|---|---|---|---|---|---|---|---|---|---|---|---|---|---|---|---|---|---|---|\n",
       "| 1 | PC(18:0/18:0)  | PC(18:0/18:0)  | 415   | LMGP01010006 | PC(18:0/18:0)                | 1,2-dioctadecanoyl-sn-glycero-3-phosphocholine                                        | Distearoyl phosphatidylcholine; 1,2-distearoyl-sn-glycero-3-phosphocholine; Di-stearoyl-phosphatidylcholine; PC(36:0); PC(18:0/18:0) | PC 36:0    | PC 18:0/18:0    | Glycerophospholipids [GP] | Glycerophosphocholines [GP01]  | Diacylglycerophosphocholines [GP0101]              | 789.624757 | C44H88NO8P  | InChI=1S/C44H88NO8P/c1-6-8-10-12-14-16-18-20-22-24-26-28-30-32-34-36-43(46)50-40-42(41-52-54(48,49)51-39-38-45(3,4)5)53-44(47)37-35-33-31-29-27-25-23-21-19-17-15-13-11-9-7-2/h42H,6-41H2,1-5H3/t42-/m1/s1                                                                                                                                                    | NRJAVPSFFCBXDT-HUESYALOSA-N | HMDB0008036 | 83718 | 94190    | [C@](COP(=O)([O-])OCC[N+](C)(C)C)([H])(OC(CCCCCCCCCCCCCCCCC)=O)COC(CCCCCCCCCCCCCCCCC)=O                               |\n",
       "| 2 | PI(16:0/20:4)  | PI(16:0/20:4)  | 32078 | LMGP06010958 | PI(16:0/20:4(5Z,8Z,11Z,14Z)) | 1-hexadecanoyl-2-(5Z,8Z,11Z,14Z-eicosatetraenoyl)-glycero-3-phospho-(1'-myo-inositol) | PI(36:4); PI(16:0_20:4)                                                                                                              | PI 36:4    | PI 16:0_20:4    | Glycerophospholipids [GP] | Glycerophosphoinositols [GP06] | Diacylglycerophosphoinositols [GP0601]             | 858.525833 | C45H79O13P  | InChI=1S/C45H79O13P/c1-3-5-7-9-11-13-15-17-18-19-20-22-24-26-28-30-32-34-39(47)57-37(36-56-59(53,54)58-45-43(51)41(49)40(48)42(50)44(45)52)35-55-38(46)33-31-29-27-25-23-21-16-14-12-10-8-6-4-2/h11,13,17-18,20,22,26,28,37,40-45,48-52H,3-10,12,14-16,19,21,23-25,27,29-36H2,1-2H3,(H,53,54)/b13-11-,18-17-,22-20-,28-26-/t37-,40?,41-,42?,43?,44?,45-/m1/s1 | KIQYUSYSJTUGFZ-GWAZTMTOSA-N | HMDB0009789 | NA    | 52928411 | [C@]([H])(OC(CCC/C=C\\C/C=C\\C/C=C\\C/C=C\\CCCCC)=O)(COP(=O)(O)O[C@@H]1C(O)[C@H](O)C(O)C(O)C1O)COC(CCCCCCCCCCCCCCC)=O |\n",
       "| 3 | SM(d18:1/16:0) | SM(d18:1/16:0) | 739   | LMSP03010003 | SM(d18:1/16:0)               | N-(hexadecanoyl)-sphing-4-enine-1-phosphocholine                                      | C16 Sphingomyelin                                                                                                                    | SM 34:1;O2 | SM 18:1;O2/16:0 | Sphingolipids [SP]        | Phosphosphingolipids [SP03]    | Ceramide phosphocholines (sphingomyelins) [SP0301] | 702.567576 | C39H79N2O6P | InChI=1S/C39H79N2O6P/c1-6-8-10-12-14-16-18-20-22-24-26-28-30-32-38(42)37(36-47-48(44,45)46-35-34-41(3,4)5)40-39(43)33-31-29-27-25-23-21-19-17-15-13-11-9-7-2/h30,32,37-38,42H,6-29,31,33-36H2,1-5H3,(H-,40,43,44,45)/b32-30+/t37-,38+/m0/s1                                                                                                                   | RWKUXQNLWDTSLO-GWQJGLRPSA-N | HMDB0061712 | 78646 | 9939941  | [C@](COP(=O)([O-])OCC[N+](C)(C)C)([H])(NC(CCCCCCCCCCCCCCC)=O)[C@]([H])(O)/C=C/CCCCCCCCCCCCC                           |\n",
       "\n"
      ],
      "text/plain": [
       "  .id            input          regno lm_id        name                        \n",
       "1 PC(18:0/18:0)  PC(18:0/18:0)  415   LMGP01010006 PC(18:0/18:0)               \n",
       "2 PI(16:0/20:4)  PI(16:0/20:4)  32078 LMGP06010958 PI(16:0/20:4(5Z,8Z,11Z,14Z))\n",
       "3 SM(d18:1/16:0) SM(d18:1/16:0) 739   LMSP03010003 SM(d18:1/16:0)              \n",
       "  sys_name                                                                             \n",
       "1 1,2-dioctadecanoyl-sn-glycero-3-phosphocholine                                       \n",
       "2 1-hexadecanoyl-2-(5Z,8Z,11Z,14Z-eicosatetraenoyl)-glycero-3-phospho-(1'-myo-inositol)\n",
       "3 N-(hexadecanoyl)-sphing-4-enine-1-phosphocholine                                     \n",
       "  synonyms                                                                                                                            \n",
       "1 Distearoyl phosphatidylcholine; 1,2-distearoyl-sn-glycero-3-phosphocholine; Di-stearoyl-phosphatidylcholine; PC(36:0); PC(18:0/18:0)\n",
       "2 PI(36:4); PI(16:0_20:4)                                                                                                             \n",
       "3 C16 Sphingomyelin                                                                                                                   \n",
       "  abbrev     abbrev_chains   core                     \n",
       "1 PC 36:0    PC 18:0/18:0    Glycerophospholipids [GP]\n",
       "2 PI 36:4    PI 16:0_20:4    Glycerophospholipids [GP]\n",
       "3 SM 34:1;O2 SM 18:1;O2/16:0 Sphingolipids [SP]       \n",
       "  main_class                    \n",
       "1 Glycerophosphocholines [GP01] \n",
       "2 Glycerophosphoinositols [GP06]\n",
       "3 Phosphosphingolipids [SP03]   \n",
       "  sub_class                                          exactmass  formula    \n",
       "1 Diacylglycerophosphocholines [GP0101]              789.624757 C44H88NO8P \n",
       "2 Diacylglycerophosphoinositols [GP0601]             858.525833 C45H79O13P \n",
       "3 Ceramide phosphocholines (sphingomyelins) [SP0301] 702.567576 C39H79N2O6P\n",
       "  inchi                                                                                                                                                                                                                                                                                                                                                        \n",
       "1 InChI=1S/C44H88NO8P/c1-6-8-10-12-14-16-18-20-22-24-26-28-30-32-34-36-43(46)50-40-42(41-52-54(48,49)51-39-38-45(3,4)5)53-44(47)37-35-33-31-29-27-25-23-21-19-17-15-13-11-9-7-2/h42H,6-41H2,1-5H3/t42-/m1/s1                                                                                                                                                   \n",
       "2 InChI=1S/C45H79O13P/c1-3-5-7-9-11-13-15-17-18-19-20-22-24-26-28-30-32-34-39(47)57-37(36-56-59(53,54)58-45-43(51)41(49)40(48)42(50)44(45)52)35-55-38(46)33-31-29-27-25-23-21-16-14-12-10-8-6-4-2/h11,13,17-18,20,22,26,28,37,40-45,48-52H,3-10,12,14-16,19,21,23-25,27,29-36H2,1-2H3,(H,53,54)/b13-11-,18-17-,22-20-,28-26-/t37-,40?,41-,42?,43?,44?,45-/m1/s1\n",
       "3 InChI=1S/C39H79N2O6P/c1-6-8-10-12-14-16-18-20-22-24-26-28-30-32-38(42)37(36-47-48(44,45)46-35-34-41(3,4)5)40-39(43)33-31-29-27-25-23-21-19-17-15-13-11-9-7-2/h30,32,37-38,42H,6-29,31,33-36H2,1-5H3,(H-,40,43,44,45)/b32-30+/t37-,38+/m0/s1                                                                                                                  \n",
       "  inchi_key                   hmdb_id     chebi_id pubchem_cid\n",
       "1 NRJAVPSFFCBXDT-HUESYALOSA-N HMDB0008036 83718    94190      \n",
       "2 KIQYUSYSJTUGFZ-GWAZTMTOSA-N HMDB0009789 NA       52928411   \n",
       "3 RWKUXQNLWDTSLO-GWQJGLRPSA-N HMDB0061712 78646    9939941    \n",
       "  smiles                                                                                                               \n",
       "1 [C@](COP(=O)([O-])OCC[N+](C)(C)C)([H])(OC(CCCCCCCCCCCCCCCCC)=O)COC(CCCCCCCCCCCCCCCCC)=O                              \n",
       "2 [C@]([H])(OC(CCC/C=C\\\\C/C=C\\\\C/C=C\\\\C/C=C\\\\CCCCC)=O)(COP(=O)(O)O[C@@H]1C(O)[C@H](O)C(O)C(O)C1O)COC(CCCCCCCCCCCCCCC)=O\n",
       "3 [C@](COP(=O)([O-])OCC[N+](C)(C)C)([H])(NC(CCCCCCCCCCCCCCC)=O)[C@]([H])(O)/C=C/CCCCCCCCCCCCC                          "
      ]
     },
     "metadata": {},
     "output_type": "display_data"
    }
   ],
   "source": [
    "## by LIPIDMAPS Name\n",
    "\n",
    "REST_list_all <-\n",
    "  sapply(example_input$Name, function(Name_i){\n",
    "    REST <- jsonlite::fromJSON(simplifyDataFrame = F, simplifyVector = F,simplifyMatrix = F,flatten = F,txt = paste0('https://www.lipidmaps.org/rest/compound/abbrev_chains/', Name_i,'/all/json'))\n",
    "    as.data.frame(REST)\n",
    "    REST_df <- as.data.frame(REST)\n",
    "  }, simplify = FALSE)\n",
    "\n",
    "REST_df_all <- ldply (REST_list_all, data.frame)\n",
    "\n",
    "head(REST_df_all)\n"
   ]
  },
  {
   "cell_type": "code",
   "execution_count": 6,
   "metadata": {},
   "outputs": [],
   "source": [
    "## write into csv\n",
    "write.csv(REST_df_all, file = '~/Downloads/LMID/example_output_abbr.csv', row.names = F)"
   ]
  },
  {
   "cell_type": "code",
   "execution_count": 7,
   "metadata": {},
   "outputs": [
    {
     "data": {
      "text/html": [
       "<table>\n",
       "<caption>A data.frame: 6 × 20</caption>\n",
       "<thead>\n",
       "\t<tr><th></th><th scope=col>.id</th><th scope=col>input</th><th scope=col>regno</th><th scope=col>lm_id</th><th scope=col>name</th><th scope=col>sys_name</th><th scope=col>synonyms</th><th scope=col>abbrev</th><th scope=col>abbrev_chains</th><th scope=col>core</th><th scope=col>main_class</th><th scope=col>sub_class</th><th scope=col>exactmass</th><th scope=col>formula</th><th scope=col>inchi</th><th scope=col>inchi_key</th><th scope=col>hmdb_id</th><th scope=col>chebi_id</th><th scope=col>pubchem_cid</th><th scope=col>smiles</th></tr>\n",
       "\t<tr><th></th><th scope=col>&lt;chr&gt;</th><th scope=col>&lt;chr&gt;</th><th scope=col>&lt;chr&gt;</th><th scope=col>&lt;chr&gt;</th><th scope=col>&lt;chr&gt;</th><th scope=col>&lt;chr&gt;</th><th scope=col>&lt;chr&gt;</th><th scope=col>&lt;chr&gt;</th><th scope=col>&lt;chr&gt;</th><th scope=col>&lt;chr&gt;</th><th scope=col>&lt;chr&gt;</th><th scope=col>&lt;chr&gt;</th><th scope=col>&lt;chr&gt;</th><th scope=col>&lt;chr&gt;</th><th scope=col>&lt;chr&gt;</th><th scope=col>&lt;chr&gt;</th><th scope=col>&lt;chr&gt;</th><th scope=col>&lt;chr&gt;</th><th scope=col>&lt;chr&gt;</th><th scope=col>&lt;chr&gt;</th></tr>\n",
       "</thead>\n",
       "<tbody>\n",
       "\t<tr><th scope=row>C44H88NO8P.1</th><td>Row1</td><td>C44H88NO8P</td><td>415 </td><td>LMGP01010006</td><td>PC(18:0/18:0)</td><td>1,2-dioctadecanoyl-sn-glycero-3-phosphocholine             </td><td>Distearoyl phosphatidylcholine; 1,2-distearoyl-sn-glycero-3-phosphocholine; Di-stearoyl-phosphatidylcholine; PC(36:0); PC(18:0/18:0)</td><td>PC 36:0</td><td>PC 18:0/18:0</td><td>Glycerophospholipids [GP]</td><td>Glycerophosphocholines [GP01]</td><td>Diacylglycerophosphocholines [GP0101]</td><td>789.624757</td><td>C44H88NO8P</td><td>InChI=1S/C44H88NO8P/c1-6-8-10-12-14-16-18-20-22-24-26-28-30-32-34-36-43(46)50-40-42(41-52-54(48,49)51-39-38-45(3,4)5)53-44(47)37-35-33-31-29-27-25-23-21-19-17-15-13-11-9-7-2/h42H,6-41H2,1-5H3/t42-/m1/s1</td><td>NRJAVPSFFCBXDT-HUESYALOSA-N</td><td>HMDB0008036</td><td>83718</td><td>94190   </td><td>[C@](COP(=O)([O-])OCC[N+](C)(C)C)([H])(OC(CCCCCCCCCCCCCCCCC)=O)COC(CCCCCCCCCCCCCCCCC)=O</td></tr>\n",
       "\t<tr><th scope=row>C44H88NO8P.2</th><td>Row2</td><td>C44H88NO8P</td><td>2669</td><td>LMGP01010422</td><td>PC(11:0/25:0)</td><td>1-undecanoyl-2-pentacosanoyl-sn-glycero-3-phosphocholine   </td><td>PC(36:0); PC(11:0_25:0)                                                                                                             </td><td>PC 36:0</td><td>PC 11:0_25:0</td><td>Glycerophospholipids [GP]</td><td>Glycerophosphocholines [GP01]</td><td>Diacylglycerophosphocholines [GP0101]</td><td>789.624757</td><td>C44H88NO8P</td><td>InChI=1S/C44H88NO8P/c1-6-8-10-12-14-16-17-18-19-20-21-22-23-24-25-26-27-28-29-31-33-35-37-44(47)53-42(41-52-54(48,49)51-39-38-45(3,4)5)40-50-43(46)36-34-32-30-15-13-11-9-7-2/h42H,6-41H2,1-5H3/t42-/m1/s1</td><td>SNGGHTOHJYFBKC-HUESYALOSA-N</td><td>NA         </td><td>NA   </td><td>24778560</td><td>[C@](COP(=O)([O-])OCC[N+](C)(C)C)([H])(OC(CCCCCCCCCCCCCCCCCCCCCCCC)=O)COC(CCCCCCCCCC)=O</td></tr>\n",
       "\t<tr><th scope=row>C44H88NO8P.3</th><td>Row3</td><td>C44H88NO8P</td><td>2721</td><td>LMGP01010468</td><td>PC(13:0/23:0)</td><td>1-tridecanoyl-2-tricosanoyl-sn-glycero-3-phosphocholine    </td><td>PC(36:0); PC(13:0_23:0)                                                                                                             </td><td>PC 36:0</td><td>PC 13:0_23:0</td><td>Glycerophospholipids [GP]</td><td>Glycerophosphocholines [GP01]</td><td>Diacylglycerophosphocholines [GP0101]</td><td>789.624757</td><td>C44H88NO8P</td><td>InChI=1S/C44H88NO8P/c1-6-8-10-12-14-16-18-19-20-21-22-23-24-25-26-27-29-31-33-35-37-44(47)53-42(41-52-54(48,49)51-39-38-45(3,4)5)40-50-43(46)36-34-32-30-28-17-15-13-11-9-7-2/h42H,6-41H2,1-5H3/t42-/m1/s1</td><td>KMWAIMBDGYWJJR-HUESYALOSA-N</td><td>NA         </td><td>NA   </td><td>24778602</td><td>[C@](COP(=O)([O-])OCC[N+](C)(C)C)([H])(OC(CCCCCCCCCCCCCCCCCCCCCC)=O)COC(CCCCCCCCCCCC)=O</td></tr>\n",
       "\t<tr><th scope=row>C44H88NO8P.4</th><td>Row4</td><td>C44H88NO8P</td><td>2810</td><td>LMGP01010549</td><td>PC(15:0/21:0)</td><td>1-pentadecanoyl-2-heneicosanoyl-sn-glycero-3-phosphocholine</td><td>PC(36:0); PC(15:0_21:0)                                                                                                             </td><td>PC 36:0</td><td>PC 15:0_21:0</td><td>Glycerophospholipids [GP]</td><td>Glycerophosphocholines [GP01]</td><td>Diacylglycerophosphocholines [GP0101]</td><td>789.624757</td><td>C44H88NO8P</td><td>InChI=1S/C44H88NO8P/c1-6-8-10-12-14-16-18-20-21-22-23-24-25-27-29-31-33-35-37-44(47)53-42(41-52-54(48,49)51-39-38-45(3,4)5)40-50-43(46)36-34-32-30-28-26-19-17-15-13-11-9-7-2/h42H,6-41H2,1-5H3/t42-/m1/s1</td><td>VWLICNQRTMDGNI-HUESYALOSA-N</td><td>NA         </td><td>NA   </td><td>24778670</td><td>[C@](COP(=O)([O-])OCC[N+](C)(C)C)([H])(OC(CCCCCCCCCCCCCCCCCCCC)=O)COC(CCCCCCCCCCCCCC)=O</td></tr>\n",
       "\t<tr><th scope=row>C44H88NO8P.5</th><td>Row5</td><td>C44H88NO8P</td><td>2700</td><td>LMGP01010449</td><td>PC(12:0/24:0)</td><td>1-dodecanoyl-2-tetracosanoyl-sn-glycero-3-phosphocholine   </td><td>PC(36:0); PC(12:0_24:0)                                                                                                             </td><td>PC 36:0</td><td>PC 12:0_24:0</td><td>Glycerophospholipids [GP]</td><td>Glycerophosphocholines [GP01]</td><td>Diacylglycerophosphocholines [GP0101]</td><td>789.624757</td><td>C44H88NO8P</td><td>InChI=1S/C44H88NO8P/c1-6-8-10-12-14-16-17-18-19-20-21-22-23-24-25-26-27-29-31-33-35-37-44(47)53-42(41-52-54(48,49)51-39-38-45(3,4)5)40-50-43(46)36-34-32-30-28-15-13-11-9-7-2/h42H,6-41H2,1-5H3/t42-/m1/s1</td><td>IIKFGPGQHMMADZ-HUESYALOSA-N</td><td>NA         </td><td>NA   </td><td>24778584</td><td>[C@](COP(=O)([O-])OCC[N+](C)(C)C)([H])(OC(CCCCCCCCCCCCCCCCCCCCCCC)=O)COC(CCCCCCCCCCC)=O</td></tr>\n",
       "\t<tr><th scope=row>C44H88NO8P.6</th><td>Row6</td><td>C44H88NO8P</td><td>2895</td><td>LMGP01010616</td><td>PC(16:0/20:0)</td><td>1-hexadecanoyl-2-eicosanoyl-sn-glycero-3-phosphocholine    </td><td>PC(36:0); PC(16:0_20:0)                                                                                                             </td><td>PC 36:0</td><td>PC 16:0_20:0</td><td>Glycerophospholipids [GP]</td><td>Glycerophosphocholines [GP01]</td><td>Diacylglycerophosphocholines [GP0101]</td><td>789.624757</td><td>C44H88NO8P</td><td>InChI=1S/C44H88NO8P/c1-6-8-10-12-14-16-18-20-21-22-23-25-27-29-31-33-35-37-44(47)53-42(41-52-54(48,49)51-39-38-45(3,4)5)40-50-43(46)36-34-32-30-28-26-24-19-17-15-13-11-9-7-2/h42H,6-41H2,1-5H3/t42-/m1/s1</td><td>HVPURDWMANOTFO-HUESYALOSA-N</td><td>HMDB0007977</td><td>82943</td><td>24778711</td><td>[C@](COP(=O)([O-])OCC[N+](C)(C)C)([H])(OC(CCCCCCCCCCCCCCCCCCC)=O)COC(CCCCCCCCCCCCCCC)=O</td></tr>\n",
       "</tbody>\n",
       "</table>\n"
      ],
      "text/latex": [
       "A data.frame: 6 × 20\n",
       "\\begin{tabular}{r|llllllllllllllllllll}\n",
       "  & .id & input & regno & lm\\_id & name & sys\\_name & synonyms & abbrev & abbrev\\_chains & core & main\\_class & sub\\_class & exactmass & formula & inchi & inchi\\_key & hmdb\\_id & chebi\\_id & pubchem\\_cid & smiles\\\\\n",
       "  & <chr> & <chr> & <chr> & <chr> & <chr> & <chr> & <chr> & <chr> & <chr> & <chr> & <chr> & <chr> & <chr> & <chr> & <chr> & <chr> & <chr> & <chr> & <chr> & <chr>\\\\\n",
       "\\hline\n",
       "\tC44H88NO8P.1 & Row1 & C44H88NO8P & 415  & LMGP01010006 & PC(18:0/18:0) & 1,2-dioctadecanoyl-sn-glycero-3-phosphocholine              & Distearoyl phosphatidylcholine; 1,2-distearoyl-sn-glycero-3-phosphocholine; Di-stearoyl-phosphatidylcholine; PC(36:0); PC(18:0/18:0) & PC 36:0 & PC 18:0/18:0 & Glycerophospholipids {[}GP{]} & Glycerophosphocholines {[}GP01{]} & Diacylglycerophosphocholines {[}GP0101{]} & 789.624757 & C44H88NO8P & InChI=1S/C44H88NO8P/c1-6-8-10-12-14-16-18-20-22-24-26-28-30-32-34-36-43(46)50-40-42(41-52-54(48,49)51-39-38-45(3,4)5)53-44(47)37-35-33-31-29-27-25-23-21-19-17-15-13-11-9-7-2/h42H,6-41H2,1-5H3/t42-/m1/s1 & NRJAVPSFFCBXDT-HUESYALOSA-N & HMDB0008036 & 83718 & 94190    & {[}C@{]}(COP(=O)({[}O-{]})OCC{[}N+{]}(C)(C)C)({[}H{]})(OC(CCCCCCCCCCCCCCCCC)=O)COC(CCCCCCCCCCCCCCCCC)=O\\\\\n",
       "\tC44H88NO8P.2 & Row2 & C44H88NO8P & 2669 & LMGP01010422 & PC(11:0/25:0) & 1-undecanoyl-2-pentacosanoyl-sn-glycero-3-phosphocholine    & PC(36:0); PC(11:0\\_25:0)                                                                                                              & PC 36:0 & PC 11:0\\_25:0 & Glycerophospholipids {[}GP{]} & Glycerophosphocholines {[}GP01{]} & Diacylglycerophosphocholines {[}GP0101{]} & 789.624757 & C44H88NO8P & InChI=1S/C44H88NO8P/c1-6-8-10-12-14-16-17-18-19-20-21-22-23-24-25-26-27-28-29-31-33-35-37-44(47)53-42(41-52-54(48,49)51-39-38-45(3,4)5)40-50-43(46)36-34-32-30-15-13-11-9-7-2/h42H,6-41H2,1-5H3/t42-/m1/s1 & SNGGHTOHJYFBKC-HUESYALOSA-N & NA          & NA    & 24778560 & {[}C@{]}(COP(=O)({[}O-{]})OCC{[}N+{]}(C)(C)C)({[}H{]})(OC(CCCCCCCCCCCCCCCCCCCCCCCC)=O)COC(CCCCCCCCCC)=O\\\\\n",
       "\tC44H88NO8P.3 & Row3 & C44H88NO8P & 2721 & LMGP01010468 & PC(13:0/23:0) & 1-tridecanoyl-2-tricosanoyl-sn-glycero-3-phosphocholine     & PC(36:0); PC(13:0\\_23:0)                                                                                                              & PC 36:0 & PC 13:0\\_23:0 & Glycerophospholipids {[}GP{]} & Glycerophosphocholines {[}GP01{]} & Diacylglycerophosphocholines {[}GP0101{]} & 789.624757 & C44H88NO8P & InChI=1S/C44H88NO8P/c1-6-8-10-12-14-16-18-19-20-21-22-23-24-25-26-27-29-31-33-35-37-44(47)53-42(41-52-54(48,49)51-39-38-45(3,4)5)40-50-43(46)36-34-32-30-28-17-15-13-11-9-7-2/h42H,6-41H2,1-5H3/t42-/m1/s1 & KMWAIMBDGYWJJR-HUESYALOSA-N & NA          & NA    & 24778602 & {[}C@{]}(COP(=O)({[}O-{]})OCC{[}N+{]}(C)(C)C)({[}H{]})(OC(CCCCCCCCCCCCCCCCCCCCCC)=O)COC(CCCCCCCCCCCC)=O\\\\\n",
       "\tC44H88NO8P.4 & Row4 & C44H88NO8P & 2810 & LMGP01010549 & PC(15:0/21:0) & 1-pentadecanoyl-2-heneicosanoyl-sn-glycero-3-phosphocholine & PC(36:0); PC(15:0\\_21:0)                                                                                                              & PC 36:0 & PC 15:0\\_21:0 & Glycerophospholipids {[}GP{]} & Glycerophosphocholines {[}GP01{]} & Diacylglycerophosphocholines {[}GP0101{]} & 789.624757 & C44H88NO8P & InChI=1S/C44H88NO8P/c1-6-8-10-12-14-16-18-20-21-22-23-24-25-27-29-31-33-35-37-44(47)53-42(41-52-54(48,49)51-39-38-45(3,4)5)40-50-43(46)36-34-32-30-28-26-19-17-15-13-11-9-7-2/h42H,6-41H2,1-5H3/t42-/m1/s1 & VWLICNQRTMDGNI-HUESYALOSA-N & NA          & NA    & 24778670 & {[}C@{]}(COP(=O)({[}O-{]})OCC{[}N+{]}(C)(C)C)({[}H{]})(OC(CCCCCCCCCCCCCCCCCCCC)=O)COC(CCCCCCCCCCCCCC)=O\\\\\n",
       "\tC44H88NO8P.5 & Row5 & C44H88NO8P & 2700 & LMGP01010449 & PC(12:0/24:0) & 1-dodecanoyl-2-tetracosanoyl-sn-glycero-3-phosphocholine    & PC(36:0); PC(12:0\\_24:0)                                                                                                              & PC 36:0 & PC 12:0\\_24:0 & Glycerophospholipids {[}GP{]} & Glycerophosphocholines {[}GP01{]} & Diacylglycerophosphocholines {[}GP0101{]} & 789.624757 & C44H88NO8P & InChI=1S/C44H88NO8P/c1-6-8-10-12-14-16-17-18-19-20-21-22-23-24-25-26-27-29-31-33-35-37-44(47)53-42(41-52-54(48,49)51-39-38-45(3,4)5)40-50-43(46)36-34-32-30-28-15-13-11-9-7-2/h42H,6-41H2,1-5H3/t42-/m1/s1 & IIKFGPGQHMMADZ-HUESYALOSA-N & NA          & NA    & 24778584 & {[}C@{]}(COP(=O)({[}O-{]})OCC{[}N+{]}(C)(C)C)({[}H{]})(OC(CCCCCCCCCCCCCCCCCCCCCCC)=O)COC(CCCCCCCCCCC)=O\\\\\n",
       "\tC44H88NO8P.6 & Row6 & C44H88NO8P & 2895 & LMGP01010616 & PC(16:0/20:0) & 1-hexadecanoyl-2-eicosanoyl-sn-glycero-3-phosphocholine     & PC(36:0); PC(16:0\\_20:0)                                                                                                              & PC 36:0 & PC 16:0\\_20:0 & Glycerophospholipids {[}GP{]} & Glycerophosphocholines {[}GP01{]} & Diacylglycerophosphocholines {[}GP0101{]} & 789.624757 & C44H88NO8P & InChI=1S/C44H88NO8P/c1-6-8-10-12-14-16-18-20-21-22-23-25-27-29-31-33-35-37-44(47)53-42(41-52-54(48,49)51-39-38-45(3,4)5)40-50-43(46)36-34-32-30-28-26-24-19-17-15-13-11-9-7-2/h42H,6-41H2,1-5H3/t42-/m1/s1 & HVPURDWMANOTFO-HUESYALOSA-N & HMDB0007977 & 82943 & 24778711 & {[}C@{]}(COP(=O)({[}O-{]})OCC{[}N+{]}(C)(C)C)({[}H{]})(OC(CCCCCCCCCCCCCCCCCCC)=O)COC(CCCCCCCCCCCCCCC)=O\\\\\n",
       "\\end{tabular}\n"
      ],
      "text/markdown": [
       "\n",
       "A data.frame: 6 × 20\n",
       "\n",
       "| <!--/--> | .id &lt;chr&gt; | input &lt;chr&gt; | regno &lt;chr&gt; | lm_id &lt;chr&gt; | name &lt;chr&gt; | sys_name &lt;chr&gt; | synonyms &lt;chr&gt; | abbrev &lt;chr&gt; | abbrev_chains &lt;chr&gt; | core &lt;chr&gt; | main_class &lt;chr&gt; | sub_class &lt;chr&gt; | exactmass &lt;chr&gt; | formula &lt;chr&gt; | inchi &lt;chr&gt; | inchi_key &lt;chr&gt; | hmdb_id &lt;chr&gt; | chebi_id &lt;chr&gt; | pubchem_cid &lt;chr&gt; | smiles &lt;chr&gt; |\n",
       "|---|---|---|---|---|---|---|---|---|---|---|---|---|---|---|---|---|---|---|---|---|\n",
       "| C44H88NO8P.1 | Row1 | C44H88NO8P | 415  | LMGP01010006 | PC(18:0/18:0) | 1,2-dioctadecanoyl-sn-glycero-3-phosphocholine              | Distearoyl phosphatidylcholine; 1,2-distearoyl-sn-glycero-3-phosphocholine; Di-stearoyl-phosphatidylcholine; PC(36:0); PC(18:0/18:0) | PC 36:0 | PC 18:0/18:0 | Glycerophospholipids [GP] | Glycerophosphocholines [GP01] | Diacylglycerophosphocholines [GP0101] | 789.624757 | C44H88NO8P | InChI=1S/C44H88NO8P/c1-6-8-10-12-14-16-18-20-22-24-26-28-30-32-34-36-43(46)50-40-42(41-52-54(48,49)51-39-38-45(3,4)5)53-44(47)37-35-33-31-29-27-25-23-21-19-17-15-13-11-9-7-2/h42H,6-41H2,1-5H3/t42-/m1/s1 | NRJAVPSFFCBXDT-HUESYALOSA-N | HMDB0008036 | 83718 | 94190    | [C@](COP(=O)([O-])OCC[N+](C)(C)C)([H])(OC(CCCCCCCCCCCCCCCCC)=O)COC(CCCCCCCCCCCCCCCCC)=O |\n",
       "| C44H88NO8P.2 | Row2 | C44H88NO8P | 2669 | LMGP01010422 | PC(11:0/25:0) | 1-undecanoyl-2-pentacosanoyl-sn-glycero-3-phosphocholine    | PC(36:0); PC(11:0_25:0)                                                                                                              | PC 36:0 | PC 11:0_25:0 | Glycerophospholipids [GP] | Glycerophosphocholines [GP01] | Diacylglycerophosphocholines [GP0101] | 789.624757 | C44H88NO8P | InChI=1S/C44H88NO8P/c1-6-8-10-12-14-16-17-18-19-20-21-22-23-24-25-26-27-28-29-31-33-35-37-44(47)53-42(41-52-54(48,49)51-39-38-45(3,4)5)40-50-43(46)36-34-32-30-15-13-11-9-7-2/h42H,6-41H2,1-5H3/t42-/m1/s1 | SNGGHTOHJYFBKC-HUESYALOSA-N | NA          | NA    | 24778560 | [C@](COP(=O)([O-])OCC[N+](C)(C)C)([H])(OC(CCCCCCCCCCCCCCCCCCCCCCCC)=O)COC(CCCCCCCCCC)=O |\n",
       "| C44H88NO8P.3 | Row3 | C44H88NO8P | 2721 | LMGP01010468 | PC(13:0/23:0) | 1-tridecanoyl-2-tricosanoyl-sn-glycero-3-phosphocholine     | PC(36:0); PC(13:0_23:0)                                                                                                              | PC 36:0 | PC 13:0_23:0 | Glycerophospholipids [GP] | Glycerophosphocholines [GP01] | Diacylglycerophosphocholines [GP0101] | 789.624757 | C44H88NO8P | InChI=1S/C44H88NO8P/c1-6-8-10-12-14-16-18-19-20-21-22-23-24-25-26-27-29-31-33-35-37-44(47)53-42(41-52-54(48,49)51-39-38-45(3,4)5)40-50-43(46)36-34-32-30-28-17-15-13-11-9-7-2/h42H,6-41H2,1-5H3/t42-/m1/s1 | KMWAIMBDGYWJJR-HUESYALOSA-N | NA          | NA    | 24778602 | [C@](COP(=O)([O-])OCC[N+](C)(C)C)([H])(OC(CCCCCCCCCCCCCCCCCCCCCC)=O)COC(CCCCCCCCCCCC)=O |\n",
       "| C44H88NO8P.4 | Row4 | C44H88NO8P | 2810 | LMGP01010549 | PC(15:0/21:0) | 1-pentadecanoyl-2-heneicosanoyl-sn-glycero-3-phosphocholine | PC(36:0); PC(15:0_21:0)                                                                                                              | PC 36:0 | PC 15:0_21:0 | Glycerophospholipids [GP] | Glycerophosphocholines [GP01] | Diacylglycerophosphocholines [GP0101] | 789.624757 | C44H88NO8P | InChI=1S/C44H88NO8P/c1-6-8-10-12-14-16-18-20-21-22-23-24-25-27-29-31-33-35-37-44(47)53-42(41-52-54(48,49)51-39-38-45(3,4)5)40-50-43(46)36-34-32-30-28-26-19-17-15-13-11-9-7-2/h42H,6-41H2,1-5H3/t42-/m1/s1 | VWLICNQRTMDGNI-HUESYALOSA-N | NA          | NA    | 24778670 | [C@](COP(=O)([O-])OCC[N+](C)(C)C)([H])(OC(CCCCCCCCCCCCCCCCCCCC)=O)COC(CCCCCCCCCCCCCC)=O |\n",
       "| C44H88NO8P.5 | Row5 | C44H88NO8P | 2700 | LMGP01010449 | PC(12:0/24:0) | 1-dodecanoyl-2-tetracosanoyl-sn-glycero-3-phosphocholine    | PC(36:0); PC(12:0_24:0)                                                                                                              | PC 36:0 | PC 12:0_24:0 | Glycerophospholipids [GP] | Glycerophosphocholines [GP01] | Diacylglycerophosphocholines [GP0101] | 789.624757 | C44H88NO8P | InChI=1S/C44H88NO8P/c1-6-8-10-12-14-16-17-18-19-20-21-22-23-24-25-26-27-29-31-33-35-37-44(47)53-42(41-52-54(48,49)51-39-38-45(3,4)5)40-50-43(46)36-34-32-30-28-15-13-11-9-7-2/h42H,6-41H2,1-5H3/t42-/m1/s1 | IIKFGPGQHMMADZ-HUESYALOSA-N | NA          | NA    | 24778584 | [C@](COP(=O)([O-])OCC[N+](C)(C)C)([H])(OC(CCCCCCCCCCCCCCCCCCCCCCC)=O)COC(CCCCCCCCCCC)=O |\n",
       "| C44H88NO8P.6 | Row6 | C44H88NO8P | 2895 | LMGP01010616 | PC(16:0/20:0) | 1-hexadecanoyl-2-eicosanoyl-sn-glycero-3-phosphocholine     | PC(36:0); PC(16:0_20:0)                                                                                                              | PC 36:0 | PC 16:0_20:0 | Glycerophospholipids [GP] | Glycerophosphocholines [GP01] | Diacylglycerophosphocholines [GP0101] | 789.624757 | C44H88NO8P | InChI=1S/C44H88NO8P/c1-6-8-10-12-14-16-18-20-21-22-23-25-27-29-31-33-35-37-44(47)53-42(41-52-54(48,49)51-39-38-45(3,4)5)40-50-43(46)36-34-32-30-28-26-24-19-17-15-13-11-9-7-2/h42H,6-41H2,1-5H3/t42-/m1/s1 | HVPURDWMANOTFO-HUESYALOSA-N | HMDB0007977 | 82943 | 24778711 | [C@](COP(=O)([O-])OCC[N+](C)(C)C)([H])(OC(CCCCCCCCCCCCCCCCCCC)=O)COC(CCCCCCCCCCCCCCC)=O |\n",
       "\n"
      ],
      "text/plain": [
       "             .id  input      regno lm_id        name         \n",
       "C44H88NO8P.1 Row1 C44H88NO8P 415   LMGP01010006 PC(18:0/18:0)\n",
       "C44H88NO8P.2 Row2 C44H88NO8P 2669  LMGP01010422 PC(11:0/25:0)\n",
       "C44H88NO8P.3 Row3 C44H88NO8P 2721  LMGP01010468 PC(13:0/23:0)\n",
       "C44H88NO8P.4 Row4 C44H88NO8P 2810  LMGP01010549 PC(15:0/21:0)\n",
       "C44H88NO8P.5 Row5 C44H88NO8P 2700  LMGP01010449 PC(12:0/24:0)\n",
       "C44H88NO8P.6 Row6 C44H88NO8P 2895  LMGP01010616 PC(16:0/20:0)\n",
       "             sys_name                                                   \n",
       "C44H88NO8P.1 1,2-dioctadecanoyl-sn-glycero-3-phosphocholine             \n",
       "C44H88NO8P.2 1-undecanoyl-2-pentacosanoyl-sn-glycero-3-phosphocholine   \n",
       "C44H88NO8P.3 1-tridecanoyl-2-tricosanoyl-sn-glycero-3-phosphocholine    \n",
       "C44H88NO8P.4 1-pentadecanoyl-2-heneicosanoyl-sn-glycero-3-phosphocholine\n",
       "C44H88NO8P.5 1-dodecanoyl-2-tetracosanoyl-sn-glycero-3-phosphocholine   \n",
       "C44H88NO8P.6 1-hexadecanoyl-2-eicosanoyl-sn-glycero-3-phosphocholine    \n",
       "             synonyms                                                                                                                            \n",
       "C44H88NO8P.1 Distearoyl phosphatidylcholine; 1,2-distearoyl-sn-glycero-3-phosphocholine; Di-stearoyl-phosphatidylcholine; PC(36:0); PC(18:0/18:0)\n",
       "C44H88NO8P.2 PC(36:0); PC(11:0_25:0)                                                                                                             \n",
       "C44H88NO8P.3 PC(36:0); PC(13:0_23:0)                                                                                                             \n",
       "C44H88NO8P.4 PC(36:0); PC(15:0_21:0)                                                                                                             \n",
       "C44H88NO8P.5 PC(36:0); PC(12:0_24:0)                                                                                                             \n",
       "C44H88NO8P.6 PC(36:0); PC(16:0_20:0)                                                                                                             \n",
       "             abbrev  abbrev_chains core                     \n",
       "C44H88NO8P.1 PC 36:0 PC 18:0/18:0  Glycerophospholipids [GP]\n",
       "C44H88NO8P.2 PC 36:0 PC 11:0_25:0  Glycerophospholipids [GP]\n",
       "C44H88NO8P.3 PC 36:0 PC 13:0_23:0  Glycerophospholipids [GP]\n",
       "C44H88NO8P.4 PC 36:0 PC 15:0_21:0  Glycerophospholipids [GP]\n",
       "C44H88NO8P.5 PC 36:0 PC 12:0_24:0  Glycerophospholipids [GP]\n",
       "C44H88NO8P.6 PC 36:0 PC 16:0_20:0  Glycerophospholipids [GP]\n",
       "             main_class                   \n",
       "C44H88NO8P.1 Glycerophosphocholines [GP01]\n",
       "C44H88NO8P.2 Glycerophosphocholines [GP01]\n",
       "C44H88NO8P.3 Glycerophosphocholines [GP01]\n",
       "C44H88NO8P.4 Glycerophosphocholines [GP01]\n",
       "C44H88NO8P.5 Glycerophosphocholines [GP01]\n",
       "C44H88NO8P.6 Glycerophosphocholines [GP01]\n",
       "             sub_class                             exactmass  formula   \n",
       "C44H88NO8P.1 Diacylglycerophosphocholines [GP0101] 789.624757 C44H88NO8P\n",
       "C44H88NO8P.2 Diacylglycerophosphocholines [GP0101] 789.624757 C44H88NO8P\n",
       "C44H88NO8P.3 Diacylglycerophosphocholines [GP0101] 789.624757 C44H88NO8P\n",
       "C44H88NO8P.4 Diacylglycerophosphocholines [GP0101] 789.624757 C44H88NO8P\n",
       "C44H88NO8P.5 Diacylglycerophosphocholines [GP0101] 789.624757 C44H88NO8P\n",
       "C44H88NO8P.6 Diacylglycerophosphocholines [GP0101] 789.624757 C44H88NO8P\n",
       "             inchi                                                                                                                                                                                                     \n",
       "C44H88NO8P.1 InChI=1S/C44H88NO8P/c1-6-8-10-12-14-16-18-20-22-24-26-28-30-32-34-36-43(46)50-40-42(41-52-54(48,49)51-39-38-45(3,4)5)53-44(47)37-35-33-31-29-27-25-23-21-19-17-15-13-11-9-7-2/h42H,6-41H2,1-5H3/t42-/m1/s1\n",
       "C44H88NO8P.2 InChI=1S/C44H88NO8P/c1-6-8-10-12-14-16-17-18-19-20-21-22-23-24-25-26-27-28-29-31-33-35-37-44(47)53-42(41-52-54(48,49)51-39-38-45(3,4)5)40-50-43(46)36-34-32-30-15-13-11-9-7-2/h42H,6-41H2,1-5H3/t42-/m1/s1\n",
       "C44H88NO8P.3 InChI=1S/C44H88NO8P/c1-6-8-10-12-14-16-18-19-20-21-22-23-24-25-26-27-29-31-33-35-37-44(47)53-42(41-52-54(48,49)51-39-38-45(3,4)5)40-50-43(46)36-34-32-30-28-17-15-13-11-9-7-2/h42H,6-41H2,1-5H3/t42-/m1/s1\n",
       "C44H88NO8P.4 InChI=1S/C44H88NO8P/c1-6-8-10-12-14-16-18-20-21-22-23-24-25-27-29-31-33-35-37-44(47)53-42(41-52-54(48,49)51-39-38-45(3,4)5)40-50-43(46)36-34-32-30-28-26-19-17-15-13-11-9-7-2/h42H,6-41H2,1-5H3/t42-/m1/s1\n",
       "C44H88NO8P.5 InChI=1S/C44H88NO8P/c1-6-8-10-12-14-16-17-18-19-20-21-22-23-24-25-26-27-29-31-33-35-37-44(47)53-42(41-52-54(48,49)51-39-38-45(3,4)5)40-50-43(46)36-34-32-30-28-15-13-11-9-7-2/h42H,6-41H2,1-5H3/t42-/m1/s1\n",
       "C44H88NO8P.6 InChI=1S/C44H88NO8P/c1-6-8-10-12-14-16-18-20-21-22-23-25-27-29-31-33-35-37-44(47)53-42(41-52-54(48,49)51-39-38-45(3,4)5)40-50-43(46)36-34-32-30-28-26-24-19-17-15-13-11-9-7-2/h42H,6-41H2,1-5H3/t42-/m1/s1\n",
       "             inchi_key                   hmdb_id     chebi_id pubchem_cid\n",
       "C44H88NO8P.1 NRJAVPSFFCBXDT-HUESYALOSA-N HMDB0008036 83718    94190      \n",
       "C44H88NO8P.2 SNGGHTOHJYFBKC-HUESYALOSA-N NA          NA       24778560   \n",
       "C44H88NO8P.3 KMWAIMBDGYWJJR-HUESYALOSA-N NA          NA       24778602   \n",
       "C44H88NO8P.4 VWLICNQRTMDGNI-HUESYALOSA-N NA          NA       24778670   \n",
       "C44H88NO8P.5 IIKFGPGQHMMADZ-HUESYALOSA-N NA          NA       24778584   \n",
       "C44H88NO8P.6 HVPURDWMANOTFO-HUESYALOSA-N HMDB0007977 82943    24778711   \n",
       "             smiles                                                                                 \n",
       "C44H88NO8P.1 [C@](COP(=O)([O-])OCC[N+](C)(C)C)([H])(OC(CCCCCCCCCCCCCCCCC)=O)COC(CCCCCCCCCCCCCCCCC)=O\n",
       "C44H88NO8P.2 [C@](COP(=O)([O-])OCC[N+](C)(C)C)([H])(OC(CCCCCCCCCCCCCCCCCCCCCCCC)=O)COC(CCCCCCCCCC)=O\n",
       "C44H88NO8P.3 [C@](COP(=O)([O-])OCC[N+](C)(C)C)([H])(OC(CCCCCCCCCCCCCCCCCCCCCC)=O)COC(CCCCCCCCCCCC)=O\n",
       "C44H88NO8P.4 [C@](COP(=O)([O-])OCC[N+](C)(C)C)([H])(OC(CCCCCCCCCCCCCCCCCCCC)=O)COC(CCCCCCCCCCCCCC)=O\n",
       "C44H88NO8P.5 [C@](COP(=O)([O-])OCC[N+](C)(C)C)([H])(OC(CCCCCCCCCCCCCCCCCCCCCCC)=O)COC(CCCCCCCCCCC)=O\n",
       "C44H88NO8P.6 [C@](COP(=O)([O-])OCC[N+](C)(C)C)([H])(OC(CCCCCCCCCCCCCCCCCCC)=O)COC(CCCCCCCCCCCCCCC)=O"
      ]
     },
     "metadata": {},
     "output_type": "display_data"
    }
   ],
   "source": [
    "## by LIPIDMAPS formula\n",
    "\n",
    "REST_list_all <-\n",
    "  sapply(example_input$Formula, function(formula_i){\n",
    "    REST <- jsonlite::fromJSON(txt = paste0('https://www.lipidmaps.org/rest/compound/formula/', formula_i,'/all/json'))\n",
    "    REST_df <- ldply (REST, data.frame)\n",
    "  }, simplify = FALSE)\n",
    "\n",
    "REST_df_all <- do.call(\"rbind\",REST_list_all)\n",
    "\n",
    "head(REST_df_all)\n"
   ]
  },
  {
   "cell_type": "code",
   "execution_count": 8,
   "metadata": {},
   "outputs": [],
   "source": [
    "## write into csv\n",
    "write.csv(REST_df_all, file = '~/Downloads/LMID/example_output_abbr.csv', row.names = F)"
   ]
  }
 ],
 "metadata": {
  "kernelspec": {
   "display_name": "R",
   "language": "R",
   "name": "ir"
  },
  "language_info": {
   "codemirror_mode": "r",
   "file_extension": ".r",
   "mimetype": "text/x-r-source",
   "name": "R",
   "pygments_lexer": "r",
   "version": "3.4.4"
  }
 },
 "nbformat": 4,
 "nbformat_minor": 4
}
