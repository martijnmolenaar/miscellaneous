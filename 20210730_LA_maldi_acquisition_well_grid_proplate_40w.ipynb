{
 "cells": [
  {
   "cell_type": "code",
   "execution_count": null,
   "metadata": {},
   "outputs": [],
   "source": [
    "%load_ext autoreload\n",
    "%autoreload 2\n",
    "%matplotlib notebook #inline\n",
    "import matplotlib.pyplot as plt"
   ]
  },
  {
   "cell_type": "code",
   "execution_count": null,
   "metadata": {},
   "outputs": [],
   "source": [
    "import remote_control\n",
    "\n",
    "remote_control.__file__"
   ]
  },
  {
   "cell_type": "code",
   "execution_count": null,
   "metadata": {},
   "outputs": [],
   "source": [
    "from remote_control.control import configure_fly_at_fixed_z\n",
    "configure_fly_at_fixed_z(2000, 500)"
   ]
  },
  {
   "cell_type": "code",
   "execution_count": null,
   "metadata": {
    "scrolled": false
   },
   "outputs": [],
   "source": [
    "from remote_control import acquisition\n",
    "slides = acquisition.SLIDES\n",
    "#print(slides)\n",
    "custom_plate =  { \n",
    "    \"name\": \"HT Proplate 40 wells\",\n",
    "    \"spot_spacing\": (4.5, 4.5, 1), #hor,ver (mm) centre to centre distance\n",
    "    \"spot_size\": (1 ,1, 1), #h, v (mm)  (wells are (3.5 ,3.5), but acq area is 1x1\n",
    "    \"grid_size\": (4,10), # h, v,\n",
    "    \"shape\": \"rectangle\",\n",
    "}\n",
    "\n",
    "ga = acquisition.WellPlateGridAquisition(plate_type=custom_plate, \n",
    "                                         config_fn = 'remote_config.json', \n",
    "                                         datadir=\"./data\", # will save spatial position file here\n",
    "                                         log_fname=\"./test.log\")\n",
    "\n",
    "#calibration point locations, corresponds to wells in the next line, and the 'top_left' after 3 lines!\n",
    "instrument_positions = [\n",
    "         (422, 4252, -4.4),\n",
    "         (-10252, 4187, -94.5),\n",
    "         (29, 42684, 122.5),\n",
    "         (-10536, 42666, 43)\n",
    "]\n",
    "#wells for calibration, series from 0 - (n-1) !!\n",
    "wells = [\n",
    "    (0,0,0),\n",
    "    (3,0,0),   ## is 4th well horizontal, first vertical (counted from bottom)\n",
    "    (0,9,0),\n",
    "    (3,9,0),\n",
    "] \n",
    "\n",
    "image_bounds = [\n",
    "                  [3700, -450],           ## right_bottom\n",
    "                  [-13900, 48000],        ## left top\n",
    "                ] # [.max_x, min_y] [min_x, .max_y] \n",
    "\n",
    "ga.calibrate(instrument_positions, wells, 'top_left') #calibration point location!\n",
    "ga.set_image_bounds(image_bounds)\n",
    "\n",
    "#plt.figure()\n",
    "#plt.scatter([c[0] for c in instrument_positions], [c[1] for c in instrument_positions])\n",
    "#plt.show()\n",
    "\n",
    "#plt.figure()\n",
    "#plt.scatter([c[0] for c in instrument_positions], [c[1] for c in wells])\n",
    "#plt.show()\n",
    "\n",
    "spotsToUse = [\n",
    "(0, 0),\n",
    "(1, 0),\n",
    "(2, 0),\n",
    "(3, 0),\n",
    "(0, 1),\n",
    "(1, 1),\n",
    "(2, 1),\n",
    "(3, 1),\n",
    "(0, 2),\n",
    "(1, 2),\n",
    "(2, 2),\n",
    "(3, 2),\n",
    "(0, 3),\n",
    "(1, 3),\n",
    "(2, 3),\n",
    "(3, 3),\n",
    "(0, 4),\n",
    "(1, 4),\n",
    "(2, 4),\n",
    "(3, 4),\n",
    "(0, 5),\n",
    "(1, 5),\n",
    "(2, 5),\n",
    "(3, 5),\n",
    "(0, 6),\n",
    "(1, 6),\n",
    "(2, 6),\n",
    "(3, 6),\n",
    "(0, 7),\n",
    "(1, 7),\n",
    "(2, 7),\n",
    "(3, 7),\n",
    "(0, 8),\n",
    "(1, 8),\n",
    "(2, 8),\n",
    "(3, 8),\n",
    "(0, 9),\n",
    "(1, 9),\n",
    "(2, 9),\n",
    "(3, 9)\n",
    "    \n",
    "]\n",
    "\n",
    "# Generate coordinates & preview\n",
    "ga.generate_targets(\n",
    "    spotsToUse, \n",
    "    offset_x=200,    ### 200 um (!) offset to prevent acquisition at the extreme top\n",
    "    offset_y=200, \n",
    "    pixelsize_x=10, \n",
    "    pixelsize_y=10, \n",
    "    area_function_name='upper_left')   ## upper_left, as this is also the calibration point of earlier steps\n",
    "\n",
    "ga.plot_targets(annotate=True)"
   ]
  },
  {
   "cell_type": "markdown",
   "metadata": {},
   "source": [
    "# Write coordinates to file locally"
   ]
  },
  {
   "cell_type": "code",
   "execution_count": null,
   "metadata": {},
   "outputs": [],
   "source": [
    "ga.write_imzc_coords_file('./data/positions_imzc.txt')\n",
    "ga.write_json_coords_file('./data/positions.json')"
   ]
  },
  {
   "cell_type": "markdown",
   "metadata": {},
   "source": [
    "# Perform acquisition & write to file in output directory"
   ]
  },
  {
   "cell_type": "code",
   "execution_count": null,
   "metadata": {
    "scrolled": false
   },
   "outputs": [],
   "source": [
    "filename = \"./data/xxxx\" # Prefix for output files\n",
    "\n",
    "ga.acquire(filename, dummy=True)"
   ]
  }
 ],
 "metadata": {
  "kernelspec": {
   "display_name": "Python 3",
   "language": "python",
   "name": "python3"
  },
  "language_info": {
   "codemirror_mode": {
    "name": "ipython",
    "version": 3
   },
   "file_extension": ".py",
   "mimetype": "text/x-python",
   "name": "python",
   "nbconvert_exporter": "python",
   "pygments_lexer": "ipython3",
   "version": "3.7.6"
  },
  "toc": {
   "nav_menu": {},
   "number_sections": true,
   "sideBar": true,
   "skip_h1_title": false,
   "toc_cell": false,
   "toc_position": {},
   "toc_section_display": "block",
   "toc_window_display": false
  },
  "widgets": {
   "state": {},
   "version": "1.1.0"
  }
 },
 "nbformat": 4,
 "nbformat_minor": 2
}
